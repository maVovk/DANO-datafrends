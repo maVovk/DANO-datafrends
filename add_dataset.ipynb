{
 "cells": [
  {
   "cell_type": "code",
   "execution_count": 1,
   "metadata": {},
   "outputs": [
    {
     "name": "stdout",
     "output_type": "stream",
     "text": [
      "Requirement already satisfied: stata_setup in c:\\users\\michalaptop\\anaconda3\\lib\\site-packages (0.1.3)\n",
      "Requirement already satisfied: pandas in c:\\users\\michalaptop\\anaconda3\\lib\\site-packages (from stata_setup) (1.4.4)\n",
      "Requirement already satisfied: numpy in c:\\users\\michalaptop\\anaconda3\\lib\\site-packages (from stata_setup) (1.21.5)\n",
      "Requirement already satisfied: ipython in c:\\users\\michalaptop\\anaconda3\\lib\\site-packages (from stata_setup) (7.31.1)\n",
      "Requirement already satisfied: pygments in c:\\users\\michalaptop\\anaconda3\\lib\\site-packages (from ipython->stata_setup) (2.11.2)\n",
      "Requirement already satisfied: matplotlib-inline in c:\\users\\michalaptop\\anaconda3\\lib\\site-packages (from ipython->stata_setup) (0.1.6)\n",
      "Requirement already satisfied: colorama in c:\\users\\michalaptop\\anaconda3\\lib\\site-packages (from ipython->stata_setup) (0.4.4)\n",
      "Requirement already satisfied: jedi>=0.16 in c:\\users\\michalaptop\\anaconda3\\lib\\site-packages (from ipython->stata_setup) (0.18.1)\n",
      "Requirement already satisfied: decorator in c:\\users\\michalaptop\\anaconda3\\lib\\site-packages (from ipython->stata_setup) (5.1.1)\n",
      "Requirement already satisfied: setuptools>=18.5 in c:\\users\\michalaptop\\anaconda3\\lib\\site-packages (from ipython->stata_setup) (63.4.1)\n",
      "Requirement already satisfied: traitlets>=4.2 in c:\\users\\michalaptop\\anaconda3\\lib\\site-packages (from ipython->stata_setup) (5.1.1)\n",
      "Requirement already satisfied: backcall in c:\\users\\michalaptop\\anaconda3\\lib\\site-packages (from ipython->stata_setup) (0.2.0)\n",
      "Requirement already satisfied: pickleshare in c:\\users\\michalaptop\\anaconda3\\lib\\site-packages (from ipython->stata_setup) (0.7.5)\n",
      "Requirement already satisfied: prompt-toolkit!=3.0.0,!=3.0.1,<3.1.0,>=2.0.0 in c:\\users\\michalaptop\\anaconda3\\lib\\site-packages (from ipython->stata_setup) (3.0.20)\n",
      "Requirement already satisfied: pytz>=2020.1 in c:\\users\\michalaptop\\anaconda3\\lib\\site-packages (from pandas->stata_setup) (2022.1)\n",
      "Requirement already satisfied: python-dateutil>=2.8.1 in c:\\users\\michalaptop\\anaconda3\\lib\\site-packages (from pandas->stata_setup) (2.8.2)\n",
      "Requirement already satisfied: parso<0.9.0,>=0.8.0 in c:\\users\\michalaptop\\anaconda3\\lib\\site-packages (from jedi>=0.16->ipython->stata_setup) (0.8.3)\n",
      "Requirement already satisfied: wcwidth in c:\\users\\michalaptop\\anaconda3\\lib\\site-packages (from prompt-toolkit!=3.0.0,!=3.0.1,<3.1.0,>=2.0.0->ipython->stata_setup) (0.2.5)\n",
      "Requirement already satisfied: six>=1.5 in c:\\users\\michalaptop\\anaconda3\\lib\\site-packages (from python-dateutil>=2.8.1->pandas->stata_setup) (1.16.0)\n"
     ]
    }
   ],
   "source": [
    "!pip install stata_setup"
   ]
  },
  {
   "cell_type": "code",
   "execution_count": 6,
   "metadata": {},
   "outputs": [
    {
     "name": "stdout",
     "output_type": "stream",
     "text": [
      "Requirement already satisfied: pystata in c:\\users\\michalaptop\\anaconda3\\lib\\site-packages (0.0.1)\n",
      "Requirement already satisfied: pandas in c:\\users\\michalaptop\\anaconda3\\lib\\site-packages (from pystata) (1.4.4)\n",
      "Requirement already satisfied: pytz>=2020.1 in c:\\users\\michalaptop\\anaconda3\\lib\\site-packages (from pandas->pystata) (2022.1)\n",
      "Requirement already satisfied: numpy>=1.18.5 in c:\\users\\michalaptop\\anaconda3\\lib\\site-packages (from pandas->pystata) (1.21.5)\n",
      "Requirement already satisfied: python-dateutil>=2.8.1 in c:\\users\\michalaptop\\anaconda3\\lib\\site-packages (from pandas->pystata) (2.8.2)\n",
      "Requirement already satisfied: six>=1.5 in c:\\users\\michalaptop\\anaconda3\\lib\\site-packages (from python-dateutil>=2.8.1->pandas->pystata) (1.16.0)\n"
     ]
    }
   ],
   "source": [
    "!pip install pystata\n"
   ]
  },
  {
   "cell_type": "code",
   "execution_count": 7,
   "metadata": {},
   "outputs": [],
   "source": [
    "import pandas as pd"
   ]
  },
  {
   "cell_type": "code",
   "execution_count": null,
   "metadata": {},
   "outputs": [],
   "source": [
    "data = pd.read_stata(\"\")"
   ]
  }
 ],
 "metadata": {
  "kernelspec": {
   "display_name": "base",
   "language": "python",
   "name": "python3"
  },
  "language_info": {
   "codemirror_mode": {
    "name": "ipython",
    "version": 3
   },
   "file_extension": ".py",
   "mimetype": "text/x-python",
   "name": "python",
   "nbconvert_exporter": "python",
   "pygments_lexer": "ipython3",
   "version": "3.9.13 (main, Aug 25 2022, 23:51:50) [MSC v.1916 64 bit (AMD64)]"
  },
  "orig_nbformat": 4,
  "vscode": {
   "interpreter": {
    "hash": "c215457064b6f697f7ec0c87f9d860954ff8ee2626f5171be7fac5331e113804"
   }
  }
 },
 "nbformat": 4,
 "nbformat_minor": 2
}
