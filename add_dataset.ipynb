{
 "cells": [
  {
   "cell_type": "code",
   "execution_count": 119,
   "metadata": {},
   "outputs": [],
   "source": [
    "import os\n",
    "import pandas as pd\n",
    "import numpy as np"
   ]
  },
  {
   "cell_type": "code",
   "execution_count": 156,
   "metadata": {},
   "outputs": [],
   "source": [
    "df = pd.DataFrame()"
   ]
  },
  {
   "cell_type": "code",
   "execution_count": 157,
   "metadata": {},
   "outputs": [],
   "source": [
    "column_name = {\n",
    "    'H02E_H.csv': 'HE051',\n",
    "    'H00D_H.csv': 'G2041',\n",
    "    'H04E_H.csv': 'JE051',\n",
    "    'H06E_H.csv': 'KE051',\n",
    "    'H08E_H.csv': 'LE051',\n",
    "    'H10E_H.csv': 'ME051',\n",
    "    'H12E_H.csv': 'NE051',\n",
    "    'H98D_H.csv': 'F1825',\n",
    "    'W2KIDS.csv': 'W8013',\n",
    "}\n",
    "\n",
    "index_name = {\n",
    "    'H02E_H.csv': 6,\n",
    "    'H00D_H.csv': 5,\n",
    "    'H04E_H.csv': 7,\n",
    "    'H06E_H.csv': 8,\n",
    "    'H08E_H.csv': 9,\n",
    "    'H10E_H.csv': 10,\n",
    "    'H12E_H.csv': 11,\n",
    "    'H98D_H.csv': 4,\n",
    "    'W2KIDS.csv': 2,\n",
    "}"
   ]
  },
  {
   "cell_type": "code",
   "execution_count": 158,
   "metadata": {},
   "outputs": [
    {
     "data": {
      "text/plain": [
       "14316"
      ]
     },
     "execution_count": 158,
     "metadata": {},
     "output_type": "execute_result"
    }
   ],
   "source": [
    "tmp = pd.read_csv('../data/H12E_H.csv', sep=';', low_memory=False)\n",
    "tmp.replace(' ', 0, inplace=True)\n",
    "tmp['NE051'].value_counts().sum()"
   ]
  },
  {
   "cell_type": "code",
   "execution_count": 159,
   "metadata": {},
   "outputs": [
    {
     "data": {
      "text/plain": [
       "(14316, 155)"
      ]
     },
     "execution_count": 159,
     "metadata": {},
     "output_type": "execute_result"
    }
   ],
   "source": [
    "tmp.shape"
   ]
  },
  {
   "cell_type": "code",
   "execution_count": 160,
   "metadata": {},
   "outputs": [],
   "source": [
    "answer_map = {\n",
    "    1: 'yes',\n",
    "    5: 'no',\n",
    "    8: '.m',\n",
    "    9: '.m',\n",
    "    0: '.m',\n",
    "    -1: '.m',\n",
    "}"
   ]
  },
  {
   "cell_type": "code",
   "execution_count": 161,
   "metadata": {},
   "outputs": [
    {
     "name": "stdout",
     "output_type": "stream",
     "text": [
      "103430 103430\n"
     ]
    },
    {
     "data": {
      "text/plain": [
       "(103430, 3)"
      ]
     },
     "execution_count": 161,
     "metadata": {},
     "output_type": "execute_result"
    }
   ],
   "source": [
    "ids = []\n",
    "values = []\n",
    "wave = []\n",
    "\n",
    "for file in os.listdir('../data'):\n",
    "    current_df = pd.read_csv(f'../data/{file}', sep=';', low_memory=False)\n",
    "    current_df.replace(' ', -1, inplace=True)\n",
    "\n",
    "    try:\n",
    "        column = column_name[file]\n",
    "\n",
    "        # print(current_df.groupby('HHID')[column].unique())\n",
    "        correct_ids = (current_df['HHID'].value_counts() == 1).where(lambda x: x == True).dropna().index\n",
    "        # correct_ids = child_by_id[child_by_id == 1].index\n",
    "        # print(correct_ids.shape[0])\n",
    "        # print(current_df[current_df['HHID'].isin(correct_ids)].shape[0])\n",
    "\n",
    "\n",
    "\n",
    "        ids = ids + correct_ids.tolist()\n",
    "        values = values + current_df[current_df['HHID'].isin(correct_ids)][column].values.tolist()\n",
    "        wave = wave + [index_name[file]] * correct_ids.shape[0]\n",
    "    except KeyError:\n",
    "        continue\n",
    "\n",
    "print(len(ids), len(values))\n",
    "\n",
    "df['hhidpn'] = ids\n",
    "df['child'] = values\n",
    "df['index_wave'] = wave\n",
    "df.shape    "
   ]
  },
  {
   "cell_type": "code",
   "execution_count": 162,
   "metadata": {},
   "outputs": [
    {
     "data": {
      "text/html": [
       "<div>\n",
       "<style scoped>\n",
       "    .dataframe tbody tr th:only-of-type {\n",
       "        vertical-align: middle;\n",
       "    }\n",
       "\n",
       "    .dataframe tbody tr th {\n",
       "        vertical-align: top;\n",
       "    }\n",
       "\n",
       "    .dataframe thead th {\n",
       "        text-align: right;\n",
       "    }\n",
       "</style>\n",
       "<table border=\"1\" class=\"dataframe\">\n",
       "  <thead>\n",
       "    <tr style=\"text-align: right;\">\n",
       "      <th></th>\n",
       "      <th>hhidpn</th>\n",
       "      <th>child</th>\n",
       "      <th>index_wave</th>\n",
       "    </tr>\n",
       "  </thead>\n",
       "  <tbody>\n",
       "    <tr>\n",
       "      <th>0</th>\n",
       "      <td>202408</td>\n",
       "      <td>-1</td>\n",
       "      <td>5</td>\n",
       "    </tr>\n",
       "    <tr>\n",
       "      <th>1</th>\n",
       "      <td>202406</td>\n",
       "      <td>-1</td>\n",
       "      <td>5</td>\n",
       "    </tr>\n",
       "    <tr>\n",
       "      <th>2</th>\n",
       "      <td>202412</td>\n",
       "      <td>-1</td>\n",
       "      <td>5</td>\n",
       "    </tr>\n",
       "    <tr>\n",
       "      <th>3</th>\n",
       "      <td>202405</td>\n",
       "      <td>-1</td>\n",
       "      <td>5</td>\n",
       "    </tr>\n",
       "    <tr>\n",
       "      <th>4</th>\n",
       "      <td>202403</td>\n",
       "      <td>-1</td>\n",
       "      <td>5</td>\n",
       "    </tr>\n",
       "  </tbody>\n",
       "</table>\n",
       "</div>"
      ],
      "text/plain": [
       "   hhidpn child  index_wave\n",
       "0  202408    -1           5\n",
       "1  202406    -1           5\n",
       "2  202412    -1           5\n",
       "3  202405    -1           5\n",
       "4  202403    -1           5"
      ]
     },
     "execution_count": 162,
     "metadata": {},
     "output_type": "execute_result"
    }
   ],
   "source": [
    "df.head()"
   ]
  },
  {
   "cell_type": "code",
   "execution_count": 163,
   "metadata": {},
   "outputs": [
    {
     "data": {
      "text/plain": [
       "array([202408, 202406, 202412, ...,  35843,  38887,  38668], dtype=int64)"
      ]
     },
     "execution_count": 163,
     "metadata": {},
     "output_type": "execute_result"
    }
   ],
   "source": [
    "df['hhidpn'].unique()"
   ]
  },
  {
   "cell_type": "code",
   "execution_count": 164,
   "metadata": {},
   "outputs": [],
   "source": [
    "df['hhidpn'] = df['hhidpn'].astype(int)\n",
    "df['child'] = df['child'].astype(int)"
   ]
  },
  {
   "cell_type": "code",
   "execution_count": 165,
   "metadata": {},
   "outputs": [],
   "source": [
    "df['child'].replace(answer_map, inplace=True)"
   ]
  },
  {
   "cell_type": "code",
   "execution_count": 166,
   "metadata": {},
   "outputs": [
    {
     "data": {
      "text/plain": [
       ".m     96376\n",
       "no      3949\n",
       "yes     3105\n",
       "Name: child, dtype: int64"
      ]
     },
     "execution_count": 166,
     "metadata": {},
     "output_type": "execute_result"
    }
   ],
   "source": [
    "df['child'].value_counts()"
   ]
  },
  {
   "cell_type": "code",
   "execution_count": 167,
   "metadata": {},
   "outputs": [],
   "source": [
    "df['child'].replace({'yes': '1', 'no': '0'}, inplace=True)"
   ]
  },
  {
   "cell_type": "code",
   "execution_count": 168,
   "metadata": {},
   "outputs": [],
   "source": [
    "df.to_csv('../child.csv', index=False)"
   ]
  }
 ],
 "metadata": {
  "kernelspec": {
   "display_name": "base",
   "language": "python",
   "name": "python3"
  },
  "language_info": {
   "codemirror_mode": {
    "name": "ipython",
    "version": 3
   },
   "file_extension": ".py",
   "mimetype": "text/x-python",
   "name": "python",
   "nbconvert_exporter": "python",
   "pygments_lexer": "ipython3",
   "version": "3.9.13"
  },
  "orig_nbformat": 4,
  "vscode": {
   "interpreter": {
    "hash": "c215457064b6f697f7ec0c87f9d860954ff8ee2626f5171be7fac5331e113804"
   }
  }
 },
 "nbformat": 4,
 "nbformat_minor": 2
}
