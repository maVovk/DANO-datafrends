{
 "cells": [
  {
   "cell_type": "code",
   "execution_count": 1,
   "metadata": {},
   "outputs": [],
   "source": [
    "import numpy as np\n",
    "import pandas as pd\n",
    "import matplotlib.pyplot as plt\n",
    "import seaborn as sns\n",
    "import warnings\n",
    "\n",
    "warnings.filterwarnings('ignore')"
   ]
  },
  {
   "cell_type": "code",
   "execution_count": 2,
   "metadata": {},
   "outputs": [
    {
     "data": {
      "text/plain": [
       "(170761, 42)"
      ]
     },
     "execution_count": 2,
     "metadata": {},
     "output_type": "execute_result"
    }
   ],
   "source": [
    "df = pd.read_csv('../Health.csv')\n",
    "df.shape"
   ]
  },
  {
   "cell_type": "code",
   "execution_count": 3,
   "metadata": {},
   "outputs": [],
   "source": [
    "# тут я выводил количество nan, оказались они только в 1 столбце(верьте мне)\n",
    "df.isna().sum();"
   ]
  },
  {
   "cell_type": "code",
   "execution_count": 4,
   "metadata": {},
   "outputs": [
    {
     "data": {
      "text/html": [
       "<div>\n",
       "<style scoped>\n",
       "    .dataframe tbody tr th:only-of-type {\n",
       "        vertical-align: middle;\n",
       "    }\n",
       "\n",
       "    .dataframe tbody tr th {\n",
       "        vertical-align: top;\n",
       "    }\n",
       "\n",
       "    .dataframe thead th {\n",
       "        text-align: right;\n",
       "    }\n",
       "</style>\n",
       "<table border=\"1\" class=\"dataframe\">\n",
       "  <thead>\n",
       "    <tr style=\"text-align: right;\">\n",
       "      <th></th>\n",
       "      <th>hhidpn</th>\n",
       "      <th>rmstat</th>\n",
       "      <th>ragender</th>\n",
       "      <th>rahispan</th>\n",
       "      <th>raracem</th>\n",
       "      <th>riwbegy</th>\n",
       "      <th>ragey_b</th>\n",
       "      <th>sagey_b</th>\n",
       "      <th>rhltc</th>\n",
       "      <th>rhlthlm</th>\n",
       "      <th>...</th>\n",
       "      <th>rjcten</th>\n",
       "      <th>index_wave</th>\n",
       "      <th>insured_gov</th>\n",
       "      <th>uninsured</th>\n",
       "      <th>retired</th>\n",
       "      <th>collegeplus</th>\n",
       "      <th>year</th>\n",
       "      <th>cpi</th>\n",
       "      <th>rgov</th>\n",
       "      <th>sgov</th>\n",
       "    </tr>\n",
       "  </thead>\n",
       "  <tbody>\n",
       "    <tr>\n",
       "      <th>40359</th>\n",
       "      <td>42633021</td>\n",
       "      <td>1</td>\n",
       "      <td>1</td>\n",
       "      <td>0</td>\n",
       "      <td>3</td>\n",
       "      <td>15apr2006</td>\n",
       "      <td>53</td>\n",
       "      <td>NaN</td>\n",
       "      <td>3</td>\n",
       "      <td>1</td>\n",
       "      <td>...</td>\n",
       "      <td>.w</td>\n",
       "      <td>8</td>\n",
       "      <td>1</td>\n",
       "      <td>0</td>\n",
       "      <td>0</td>\n",
       "      <td>0</td>\n",
       "      <td>2005</td>\n",
       "      <td>1.133913</td>\n",
       "      <td>4680.0</td>\n",
       "      <td>10032.0</td>\n",
       "    </tr>\n",
       "    <tr>\n",
       "      <th>48942</th>\n",
       "      <td>48544011</td>\n",
       "      <td>1</td>\n",
       "      <td>1</td>\n",
       "      <td>0</td>\n",
       "      <td>1</td>\n",
       "      <td>15oct2006</td>\n",
       "      <td>46</td>\n",
       "      <td>NaN</td>\n",
       "      <td>3</td>\n",
       "      <td>1</td>\n",
       "      <td>...</td>\n",
       "      <td>1.9</td>\n",
       "      <td>8</td>\n",
       "      <td>0</td>\n",
       "      <td>0</td>\n",
       "      <td>0</td>\n",
       "      <td>0</td>\n",
       "      <td>2005</td>\n",
       "      <td>1.133913</td>\n",
       "      <td>0.0</td>\n",
       "      <td>0.0</td>\n",
       "    </tr>\n",
       "    <tr>\n",
       "      <th>85784</th>\n",
       "      <td>85066011</td>\n",
       "      <td>1</td>\n",
       "      <td>1</td>\n",
       "      <td>0</td>\n",
       "      <td>2</td>\n",
       "      <td>15apr2006</td>\n",
       "      <td>68</td>\n",
       "      <td>NaN</td>\n",
       "      <td>3</td>\n",
       "      <td>0</td>\n",
       "      <td>...</td>\n",
       "      <td>.w</td>\n",
       "      <td>8</td>\n",
       "      <td>1</td>\n",
       "      <td>0</td>\n",
       "      <td>100</td>\n",
       "      <td>0</td>\n",
       "      <td>2005</td>\n",
       "      <td>1.133913</td>\n",
       "      <td>7476.0</td>\n",
       "      <td>276.0</td>\n",
       "    </tr>\n",
       "    <tr>\n",
       "      <th>149436</th>\n",
       "      <td>500893010</td>\n",
       "      <td>3</td>\n",
       "      <td>2</td>\n",
       "      <td>0</td>\n",
       "      <td>1</td>\n",
       "      <td>15may2006</td>\n",
       "      <td>54</td>\n",
       "      <td>NaN</td>\n",
       "      <td>4</td>\n",
       "      <td>0</td>\n",
       "      <td>...</td>\n",
       "      <td>26.7</td>\n",
       "      <td>2</td>\n",
       "      <td>0</td>\n",
       "      <td>0</td>\n",
       "      <td>0</td>\n",
       "      <td>1</td>\n",
       "      <td>2005</td>\n",
       "      <td>1.133913</td>\n",
       "      <td>0.0</td>\n",
       "      <td>0.0</td>\n",
       "    </tr>\n",
       "  </tbody>\n",
       "</table>\n",
       "<p>4 rows × 42 columns</p>\n",
       "</div>"
      ],
      "text/plain": [
       "           hhidpn rmstat  ragender rahispan raracem    riwbegy ragey_b  \\\n",
       "40359    42633021      1         1        0       3  15apr2006      53   \n",
       "48942    48544011      1         1        0       1  15oct2006      46   \n",
       "85784    85066011      1         1        0       2  15apr2006      68   \n",
       "149436  500893010      3         2        0       1  15may2006      54   \n",
       "\n",
       "       sagey_b rhltc rhlthlm  ... rjcten index_wave insured_gov uninsured  \\\n",
       "40359      NaN     3       1  ...     .w          8           1         0   \n",
       "48942      NaN     3       1  ...    1.9          8           0         0   \n",
       "85784      NaN     3       0  ...     .w          8           1         0   \n",
       "149436     NaN     4       0  ...   26.7          2           0         0   \n",
       "\n",
       "       retired collegeplus  year       cpi    rgov     sgov  \n",
       "40359        0           0  2005  1.133913  4680.0  10032.0  \n",
       "48942        0           0  2005  1.133913     0.0      0.0  \n",
       "85784      100           0  2005  1.133913  7476.0    276.0  \n",
       "149436       0           1  2005  1.133913     0.0      0.0  \n",
       "\n",
       "[4 rows x 42 columns]"
      ]
     },
     "execution_count": 4,
     "metadata": {},
     "output_type": "execute_result"
    }
   ],
   "source": [
    "df[df['sagey_b'].isna()]"
   ]
  },
  {
   "cell_type": "code",
   "execution_count": 5,
   "metadata": {},
   "outputs": [],
   "source": [
    "df['sagey_b'].fillna('.m', inplace=True)"
   ]
  },
  {
   "cell_type": "code",
   "execution_count": 6,
   "metadata": {},
   "outputs": [
    {
     "data": {
      "text/plain": [
       "0"
      ]
     },
     "execution_count": 6,
     "metadata": {},
     "output_type": "execute_result"
    }
   ],
   "source": [
    "df.duplicated().sum()"
   ]
  },
  {
   "cell_type": "code",
   "execution_count": 7,
   "metadata": {},
   "outputs": [
    {
     "data": {
      "text/plain": [
       "398369"
      ]
     },
     "execution_count": 7,
     "metadata": {},
     "output_type": "execute_result"
    }
   ],
   "source": [
    "cnt_missing = 0\n",
    "\n",
    "for col in df.columns:\n",
    "    values = df[col].value_counts()\n",
    "\n",
    "    if col == 'riwbegy':\n",
    "        continue\n",
    "\n",
    "    for value in values.index:\n",
    "        try:\n",
    "            _ = float(value)\n",
    "        except ValueError:\n",
    "            cnt_missing += values[value]\n",
    "\n",
    "cnt_missing"
   ]
  },
  {
   "cell_type": "code",
   "execution_count": 8,
   "metadata": {},
   "outputs": [
    {
     "name": "stdout",
     "output_type": "stream",
     "text": [
      "Процент пропущенных: 5.55%\n"
     ]
    }
   ],
   "source": [
    "print(f'Процент пропущенных: {(cnt_missing / (df.shape[0] * df.shape[1]) * 100):.2f}%')"
   ]
  },
  {
   "cell_type": "code",
   "execution_count": 9,
   "metadata": {},
   "outputs": [],
   "source": [
    "def get_all_missing_codes(column):\n",
    "    if column == 'riwbegy':\n",
    "        return []\n",
    "        \n",
    "    unique_values = df[column].unique()\n",
    "    codes = []\n",
    "\n",
    "    for value in unique_values:\n",
    "        try:\n",
    "            _ = float(value)\n",
    "        except ValueError:\n",
    "            codes.append(value)\n",
    "\n",
    "    return sorted(codes)"
   ]
  },
  {
   "cell_type": "code",
   "execution_count": 10,
   "metadata": {},
   "outputs": [],
   "source": [
    "missing_codes = set()\n",
    "\n",
    "for col in df.columns:\n",
    "    missing_codes.update(get_all_missing_codes(col))"
   ]
  },
  {
   "cell_type": "code",
   "execution_count": 11,
   "metadata": {},
   "outputs": [
    {
     "data": {
      "text/plain": [
       "{'.c', '.d', '.e', '.m', '.p', '.r', '.s', '.t', '.u', '.v', '.w', '.y', '.z'}"
      ]
     },
     "execution_count": 11,
     "metadata": {},
     "output_type": "execute_result"
    }
   ],
   "source": [
    "missing_codes"
   ]
  },
  {
   "cell_type": "code",
   "execution_count": 12,
   "metadata": {},
   "outputs": [],
   "source": [
    "def get_percent_of_missed(column):\n",
    "    # count where value is in missing_codes\n",
    "    count_of_missing = df[column].isin(missing_codes).sum()\n",
    "    return count_of_missing, count_of_missing / df.shape[0] * 100"
   ]
  },
  {
   "cell_type": "code",
   "execution_count": 13,
   "metadata": {},
   "outputs": [
    {
     "name": "stdout",
     "output_type": "stream",
     "text": [
      "Кол-во пропущенных значений в столбцах(остальные полные):\n",
      "rmstat: 114(0.07%), коды: ['.m']\n",
      "rahispan: 105(0.06%), коды: ['.m']\n",
      "raracem: 151(0.09%), коды: ['.m']\n",
      "ragey_b: 2(0.00%), коды: ['.m']\n",
      "sagey_b: 55695(32.62%), коды: ['.m', '.u', '.v']\n",
      "rhltc: 15862(9.29%), коды: ['.d', '.m', '.p', '.r']\n",
      "rhlthlm: 11987(7.02%), коды: ['.d', '.m', '.r', '.w', '.y']\n",
      "rhibpe: 213(0.12%), коды: ['.d', '.m', '.r']\n",
      "rdiabe: 228(0.13%), коды: ['.d', '.m', '.r']\n",
      "rcancre: 315(0.18%), коды: ['.d', '.m', '.r', '.t']\n",
      "rlunge: 151(0.09%), коды: ['.d', '.m', '.r']\n",
      "rhearte: 197(0.12%), коды: ['.d', '.m', '.r']\n",
      "rstroke: 129(0.08%), коды: ['.d', '.m', '.r']\n",
      "rpsyche: 200(0.12%), коды: ['.d', '.m', '.r']\n",
      "rarthre: 186(0.11%), коды: ['.d', '.m', '.r']\n",
      "rhosp: 657(0.38%), коды: ['.d', '.m', '.r']\n",
      "rhspnit: 1391(0.81%), коды: ['.d', '.m', '.r', '.z']\n",
      "rcovr: 2832(1.66%), коды: ['.c', '.d', '.e', '.m', '.r', '.t']\n",
      "rcovs: 2274(1.33%), коды: ['.c', '.d', '.e', '.m', '.r', '.t']\n",
      "rjphys: 101085(59.20%), коды: ['.d', '.m', '.p', '.r', '.s', '.w']\n",
      "rjlift: 101073(59.19%), коды: ['.d', '.m', '.p', '.r', '.s', '.w']\n",
      "rjweeks: 2352(1.38%), коды: ['.d', '.m', '.r']\n",
      "rjweek2: 1688(0.99%), коды: ['.d', '.m', '.r']\n",
      "rjcten: 99482(58.26%), коды: ['.m', '.w']\n"
     ]
    }
   ],
   "source": [
    "print('Кол-во пропущенных значений в столбцах(остальные полные):')\n",
    "for col in df.columns:\n",
    "    amount, percent = get_percent_of_missed(col)\n",
    "    \n",
    "    if amount > 0:\n",
    "        print(f'{col}: {amount}({percent:.2f}%), коды: {get_all_missing_codes(col)}')"
   ]
  },
  {
   "cell_type": "code",
   "execution_count": 14,
   "metadata": {},
   "outputs": [],
   "source": [
    "import datetime\n",
    "\n",
    "months = ['jan', 'feb', 'mar', 'apr', 'may', 'jun', 'jul', 'aug', 'sep', 'oct', 'nov', 'dec']\n",
    "\n",
    "def parse_date(el):\n",
    "    day, month, year = el[:2], el[2:5], el[5:]\n",
    "\n",
    "    return datetime.date(int(year), months.index(month) + 1, int(day))\n",
    "\n",
    "\n",
    "df['riwbegy'] = df['riwbegy'].apply(parse_date)\n",
    "df['riwbegy'] = pd.to_datetime(df['riwbegy'])\n",
    "df['inter_year'] = df['riwbegy'].dt.year"
   ]
  },
  {
   "cell_type": "code",
   "execution_count": 15,
   "metadata": {},
   "outputs": [],
   "source": [
    "def to_int(el):\n",
    "    try:\n",
    "        return int(el)\n",
    "    except ValueError:\n",
    "        return np.nan\n",
    "\n",
    "\n",
    "def apply_missing(el):\n",
    "    try:\n",
    "        _ = float(el)\n",
    "        return el\n",
    "    except ValueError:\n",
    "        return '.m'"
   ]
  },
  {
   "cell_type": "code",
   "execution_count": 16,
   "metadata": {},
   "outputs": [],
   "source": [
    "# заменим все коды пропусков на .m\n",
    "\n",
    "for col in df.columns:\n",
    "    if col != 'riwbegy':\n",
    "        df[col] = df[col].apply(apply_missing)"
   ]
  },
  {
   "cell_type": "code",
   "execution_count": 17,
   "metadata": {},
   "outputs": [],
   "source": [
    "df_without_missed_ragey_b = df[df['ragey_b'] != '.m'];\n",
    "df_without_missed_ragey_b['ragey_b'] = df_without_missed_ragey_b['ragey_b'].astype(int);\n",
    "\n",
    "median_age_by_wave = df_without_missed_ragey_b.groupby('index_wave')['ragey_b'].median();"
   ]
  },
  {
   "cell_type": "code",
   "execution_count": 18,
   "metadata": {},
   "outputs": [],
   "source": [
    "def fill_missing_ragey_b(el):\n",
    "    if el['ragey_b'] == '.m':\n",
    "        return median_age_by_wave[el['index_wave']]\n",
    "    else:\n",
    "        return el['ragey_b']\n",
    "\n",
    "df['ragey_b'] = df.apply(fill_missing_ragey_b, axis=1)\n",
    "df['ragey_b'] = df['ragey_b'].astype(int)\n",
    "\n",
    "df['year_of_birth'] = df['riwbegy'].dt.year - df['ragey_b']"
   ]
  },
  {
   "cell_type": "code",
   "execution_count": 19,
   "metadata": {},
   "outputs": [],
   "source": [
    "df['total_work_earn'] = df['riearn'] + df['siearn']\n",
    "df['total_pension_earn'] = df['ripena'] + df['sipena']\n",
    "df['total_gov_income'] = df['rgov'] + df['sgov']\n",
    "\n",
    "df['total_income'] = df['total_work_earn'] + df['total_pension_earn'] + df['total_gov_income']"
   ]
  },
  {
   "cell_type": "code",
   "execution_count": 20,
   "metadata": {},
   "outputs": [
    {
     "data": {
      "text/plain": [
       "count    1.707610e+05\n",
       "mean     4.449124e+04\n",
       "std      5.282410e+04\n",
       "min      0.000000e+00\n",
       "25%      1.519674e+04\n",
       "50%      2.991608e+04\n",
       "75%      5.718045e+04\n",
       "max      6.875386e+06\n",
       "Name: total_income, dtype: float64"
      ]
     },
     "execution_count": 20,
     "metadata": {},
     "output_type": "execute_result"
    }
   ],
   "source": [
    "df['total_income'].describe()"
   ]
  },
  {
   "cell_type": "code",
   "execution_count": 21,
   "metadata": {},
   "outputs": [
    {
     "data": {
      "text/html": [
       "<div>\n",
       "<style scoped>\n",
       "    .dataframe tbody tr th:only-of-type {\n",
       "        vertical-align: middle;\n",
       "    }\n",
       "\n",
       "    .dataframe tbody tr th {\n",
       "        vertical-align: top;\n",
       "    }\n",
       "\n",
       "    .dataframe thead th {\n",
       "        text-align: right;\n",
       "    }\n",
       "</style>\n",
       "<table border=\"1\" class=\"dataframe\">\n",
       "  <thead>\n",
       "    <tr style=\"text-align: right;\">\n",
       "      <th></th>\n",
       "      <th>riearn</th>\n",
       "      <th>ripena</th>\n",
       "      <th>siearn</th>\n",
       "      <th>sipena</th>\n",
       "    </tr>\n",
       "  </thead>\n",
       "  <tbody>\n",
       "    <tr>\n",
       "      <th>count</th>\n",
       "      <td>170761.000000</td>\n",
       "      <td>170761.000000</td>\n",
       "      <td>170761.000000</td>\n",
       "      <td>1.707610e+05</td>\n",
       "    </tr>\n",
       "    <tr>\n",
       "      <th>mean</th>\n",
       "      <td>15702.244733</td>\n",
       "      <td>3764.862189</td>\n",
       "      <td>12042.235232</td>\n",
       "      <td>2.579190e+03</td>\n",
       "    </tr>\n",
       "    <tr>\n",
       "      <th>std</th>\n",
       "      <td>33371.000325</td>\n",
       "      <td>12092.210896</td>\n",
       "      <td>30816.336503</td>\n",
       "      <td>2.217670e+04</td>\n",
       "    </tr>\n",
       "    <tr>\n",
       "      <th>min</th>\n",
       "      <td>0.000000</td>\n",
       "      <td>0.000000</td>\n",
       "      <td>0.000000</td>\n",
       "      <td>0.000000e+00</td>\n",
       "    </tr>\n",
       "    <tr>\n",
       "      <th>25%</th>\n",
       "      <td>0.000000</td>\n",
       "      <td>0.000000</td>\n",
       "      <td>0.000000</td>\n",
       "      <td>0.000000e+00</td>\n",
       "    </tr>\n",
       "    <tr>\n",
       "      <th>50%</th>\n",
       "      <td>0.000000</td>\n",
       "      <td>0.000000</td>\n",
       "      <td>0.000000</td>\n",
       "      <td>0.000000e+00</td>\n",
       "    </tr>\n",
       "    <tr>\n",
       "      <th>75%</th>\n",
       "      <td>21089.415692</td>\n",
       "      <td>0.000000</td>\n",
       "      <td>8000.000000</td>\n",
       "      <td>0.000000e+00</td>\n",
       "    </tr>\n",
       "    <tr>\n",
       "      <th>max</th>\n",
       "      <td>643233.038611</td>\n",
       "      <td>319329.942983</td>\n",
       "      <td>615098.104813</td>\n",
       "      <td>6.780589e+06</td>\n",
       "    </tr>\n",
       "  </tbody>\n",
       "</table>\n",
       "</div>"
      ],
      "text/plain": [
       "              riearn         ripena         siearn        sipena\n",
       "count  170761.000000  170761.000000  170761.000000  1.707610e+05\n",
       "mean    15702.244733    3764.862189   12042.235232  2.579190e+03\n",
       "std     33371.000325   12092.210896   30816.336503  2.217670e+04\n",
       "min         0.000000       0.000000       0.000000  0.000000e+00\n",
       "25%         0.000000       0.000000       0.000000  0.000000e+00\n",
       "50%         0.000000       0.000000       0.000000  0.000000e+00\n",
       "75%     21089.415692       0.000000    8000.000000  0.000000e+00\n",
       "max    643233.038611  319329.942983  615098.104813  6.780589e+06"
      ]
     },
     "execution_count": 21,
     "metadata": {},
     "output_type": "execute_result"
    }
   ],
   "source": [
    "# а тут меня очень смущает максимум в столбце sipena, мб это выброс\n",
    "df.iloc[:, 21:25].describe()"
   ]
  },
  {
   "cell_type": "code",
   "execution_count": 22,
   "metadata": {},
   "outputs": [],
   "source": [
    "without_work = df[df['riearn'] == 0]['hhidpn'].unique()"
   ]
  },
  {
   "cell_type": "code",
   "execution_count": 23,
   "metadata": {},
   "outputs": [
    {
     "data": {
      "text/plain": [
       "11651"
      ]
     },
     "execution_count": 23,
     "metadata": {},
     "output_type": "execute_result"
    }
   ],
   "source": [
    "got_or_lost_work = []\n",
    "\n",
    "for respondent_id in without_work:\n",
    "    if df[df['hhidpn'] == respondent_id]['riearn'].nunique() > 1:\n",
    "        got_or_lost_work.append(respondent_id)\n",
    "\n",
    "len(got_or_lost_work)"
   ]
  },
  {
   "cell_type": "code",
   "execution_count": 24,
   "metadata": {},
   "outputs": [
    {
     "data": {
      "text/plain": [
       "[3010,\n",
       " 3020,\n",
       " 10001010,\n",
       " 10003020,\n",
       " 10004040,\n",
       " 10013010,\n",
       " 10013040,\n",
       " 10038010,\n",
       " 10059030,\n",
       " 10063010]"
      ]
     },
     "execution_count": 24,
     "metadata": {},
     "output_type": "execute_result"
    }
   ],
   "source": [
    "got_or_lost_work[:10]"
   ]
  },
  {
   "cell_type": "code",
   "execution_count": 25,
   "metadata": {},
   "outputs": [
    {
     "data": {
      "image/png": "[encoded data removed]",
      "text/plain": [
       "<Figure size 432x288 with 1 Axes>"
      ]
     },
     "metadata": {},
     "output_type": "display_data"
    }
   ],
   "source": [
    "# histogram of year_of_birth of respondents who lost or got work\n",
    "sns.set()\n",
    "df[df['hhidpn'].isin(got_or_lost_work)]['year_of_birth'].hist(bins=20)\n",
    "\n",
    "plt.show()"
   ]
  },
  {
   "cell_type": "code",
   "execution_count": 26,
   "metadata": {},
   "outputs": [
    {
     "data": {
      "text/html": [
       "<div>\n",
       "<style scoped>\n",
       "    .dataframe tbody tr th:only-of-type {\n",
       "        vertical-align: middle;\n",
       "    }\n",
       "\n",
       "    .dataframe tbody tr th {\n",
       "        vertical-align: top;\n",
       "    }\n",
       "\n",
       "    .dataframe thead th {\n",
       "        text-align: right;\n",
       "    }\n",
       "</style>\n",
       "<table border=\"1\" class=\"dataframe\">\n",
       "  <thead>\n",
       "    <tr style=\"text-align: right;\">\n",
       "      <th></th>\n",
       "      <th>hhidpn</th>\n",
       "      <th>rmstat</th>\n",
       "      <th>ragender</th>\n",
       "      <th>rahispan</th>\n",
       "      <th>raracem</th>\n",
       "      <th>riwbegy</th>\n",
       "      <th>ragey_b</th>\n",
       "      <th>sagey_b</th>\n",
       "      <th>rhltc</th>\n",
       "      <th>rhlthlm</th>\n",
       "      <th>...</th>\n",
       "      <th>year</th>\n",
       "      <th>cpi</th>\n",
       "      <th>rgov</th>\n",
       "      <th>sgov</th>\n",
       "      <th>inter_year</th>\n",
       "      <th>year_of_birth</th>\n",
       "      <th>total_work_earn</th>\n",
       "      <th>total_pension_earn</th>\n",
       "      <th>total_gov_income</th>\n",
       "      <th>total_income</th>\n",
       "    </tr>\n",
       "  </thead>\n",
       "  <tbody>\n",
       "    <tr>\n",
       "      <th>142</th>\n",
       "      <td>10063010</td>\n",
       "      <td>4</td>\n",
       "      <td>2</td>\n",
       "      <td>1</td>\n",
       "      <td>2</td>\n",
       "      <td>1992-10-16</td>\n",
       "      <td>54</td>\n",
       "      <td>.m</td>\n",
       "      <td>3</td>\n",
       "      <td>1</td>\n",
       "      <td>...</td>\n",
       "      <td>1991</td>\n",
       "      <td>0.811126</td>\n",
       "      <td>3830.3835</td>\n",
       "      <td>0.0</td>\n",
       "      <td>1992</td>\n",
       "      <td>1938</td>\n",
       "      <td>0.000000</td>\n",
       "      <td>0.0</td>\n",
       "      <td>3830.3835</td>\n",
       "      <td>3830.383500</td>\n",
       "    </tr>\n",
       "    <tr>\n",
       "      <th>140</th>\n",
       "      <td>10063010</td>\n",
       "      <td>5</td>\n",
       "      <td>2</td>\n",
       "      <td>1</td>\n",
       "      <td>2</td>\n",
       "      <td>1994-08-30</td>\n",
       "      <td>56</td>\n",
       "      <td>.m</td>\n",
       "      <td>4</td>\n",
       "      <td>1</td>\n",
       "      <td>...</td>\n",
       "      <td>1993</td>\n",
       "      <td>0.852219</td>\n",
       "      <td>3831.9592</td>\n",
       "      <td>0.0</td>\n",
       "      <td>1994</td>\n",
       "      <td>1938</td>\n",
       "      <td>0.000000</td>\n",
       "      <td>0.0</td>\n",
       "      <td>3831.9592</td>\n",
       "      <td>3831.959200</td>\n",
       "    </tr>\n",
       "    <tr>\n",
       "      <th>144</th>\n",
       "      <td>10063010</td>\n",
       "      <td>6</td>\n",
       "      <td>2</td>\n",
       "      <td>1</td>\n",
       "      <td>2</td>\n",
       "      <td>1996-06-15</td>\n",
       "      <td>58</td>\n",
       "      <td>.m</td>\n",
       "      <td>4</td>\n",
       "      <td>1</td>\n",
       "      <td>...</td>\n",
       "      <td>1995</td>\n",
       "      <td>0.891173</td>\n",
       "      <td>1825.8684</td>\n",
       "      <td>0.0</td>\n",
       "      <td>1996</td>\n",
       "      <td>1938</td>\n",
       "      <td>20358.114117</td>\n",
       "      <td>0.0</td>\n",
       "      <td>1825.8684</td>\n",
       "      <td>22183.982517</td>\n",
       "    </tr>\n",
       "    <tr>\n",
       "      <th>145</th>\n",
       "      <td>10063010</td>\n",
       "      <td>5</td>\n",
       "      <td>2</td>\n",
       "      <td>1</td>\n",
       "      <td>2</td>\n",
       "      <td>2004-12-15</td>\n",
       "      <td>66</td>\n",
       "      <td>.m</td>\n",
       "      <td>3</td>\n",
       "      <td>0</td>\n",
       "      <td>...</td>\n",
       "      <td>2003</td>\n",
       "      <td>1.068196</td>\n",
       "      <td>2104.9963</td>\n",
       "      <td>0.0</td>\n",
       "      <td>2004</td>\n",
       "      <td>1938</td>\n",
       "      <td>0.000000</td>\n",
       "      <td>0.0</td>\n",
       "      <td>2104.9963</td>\n",
       "      <td>2104.996300</td>\n",
       "    </tr>\n",
       "    <tr>\n",
       "      <th>143</th>\n",
       "      <td>10063010</td>\n",
       "      <td>4</td>\n",
       "      <td>2</td>\n",
       "      <td>1</td>\n",
       "      <td>2</td>\n",
       "      <td>2006-06-15</td>\n",
       "      <td>68</td>\n",
       "      <td>.m</td>\n",
       "      <td>2</td>\n",
       "      <td>0</td>\n",
       "      <td>...</td>\n",
       "      <td>2005</td>\n",
       "      <td>1.133913</td>\n",
       "      <td>10344.0000</td>\n",
       "      <td>0.0</td>\n",
       "      <td>2006</td>\n",
       "      <td>1938</td>\n",
       "      <td>0.000000</td>\n",
       "      <td>0.0</td>\n",
       "      <td>10344.0000</td>\n",
       "      <td>10344.000000</td>\n",
       "    </tr>\n",
       "    <tr>\n",
       "      <th>139</th>\n",
       "      <td>10063010</td>\n",
       "      <td>5</td>\n",
       "      <td>2</td>\n",
       "      <td>1</td>\n",
       "      <td>2</td>\n",
       "      <td>2011-03-15</td>\n",
       "      <td>73</td>\n",
       "      <td>.m</td>\n",
       "      <td>2</td>\n",
       "      <td>0</td>\n",
       "      <td>...</td>\n",
       "      <td>2010</td>\n",
       "      <td>1.266227</td>\n",
       "      <td>9177.1377</td>\n",
       "      <td>0.0</td>\n",
       "      <td>2011</td>\n",
       "      <td>1938</td>\n",
       "      <td>0.000000</td>\n",
       "      <td>0.0</td>\n",
       "      <td>9177.1377</td>\n",
       "      <td>9177.137700</td>\n",
       "    </tr>\n",
       "    <tr>\n",
       "      <th>141</th>\n",
       "      <td>10063010</td>\n",
       "      <td>7</td>\n",
       "      <td>2</td>\n",
       "      <td>1</td>\n",
       "      <td>2</td>\n",
       "      <td>2012-07-15</td>\n",
       "      <td>74</td>\n",
       "      <td>.m</td>\n",
       "      <td>3</td>\n",
       "      <td>.m</td>\n",
       "      <td>...</td>\n",
       "      <td>2011</td>\n",
       "      <td>1.306293</td>\n",
       "      <td>7508.5371</td>\n",
       "      <td>0.0</td>\n",
       "      <td>2012</td>\n",
       "      <td>1938</td>\n",
       "      <td>0.000000</td>\n",
       "      <td>0.0</td>\n",
       "      <td>7508.5371</td>\n",
       "      <td>7508.537100</td>\n",
       "    </tr>\n",
       "  </tbody>\n",
       "</table>\n",
       "<p>7 rows × 48 columns</p>\n",
       "</div>"
      ],
      "text/plain": [
       "       hhidpn rmstat  ragender rahispan raracem    riwbegy  ragey_b sagey_b  \\\n",
       "142  10063010      4         2        1       2 1992-10-16       54      .m   \n",
       "140  10063010      5         2        1       2 1994-08-30       56      .m   \n",
       "144  10063010      6         2        1       2 1996-06-15       58      .m   \n",
       "145  10063010      5         2        1       2 2004-12-15       66      .m   \n",
       "143  10063010      4         2        1       2 2006-06-15       68      .m   \n",
       "139  10063010      5         2        1       2 2011-03-15       73      .m   \n",
       "141  10063010      7         2        1       2 2012-07-15       74      .m   \n",
       "\n",
       "    rhltc rhlthlm  ...  year       cpi        rgov sgov inter_year  \\\n",
       "142     3       1  ...  1991  0.811126   3830.3835  0.0       1992   \n",
       "140     4       1  ...  1993  0.852219   3831.9592  0.0       1994   \n",
       "144     4       1  ...  1995  0.891173   1825.8684  0.0       1996   \n",
       "145     3       0  ...  2003  1.068196   2104.9963  0.0       2004   \n",
       "143     2       0  ...  2005  1.133913  10344.0000  0.0       2006   \n",
       "139     2       0  ...  2010  1.266227   9177.1377  0.0       2011   \n",
       "141     3      .m  ...  2011  1.306293   7508.5371  0.0       2012   \n",
       "\n",
       "    year_of_birth total_work_earn total_pension_earn total_gov_income  \\\n",
       "142          1938        0.000000                0.0        3830.3835   \n",
       "140          1938        0.000000                0.0        3831.9592   \n",
       "144          1938    20358.114117                0.0        1825.8684   \n",
       "145          1938        0.000000                0.0        2104.9963   \n",
       "143          1938        0.000000                0.0       10344.0000   \n",
       "139          1938        0.000000                0.0        9177.1377   \n",
       "141          1938        0.000000                0.0        7508.5371   \n",
       "\n",
       "     total_income  \n",
       "142   3830.383500  \n",
       "140   3831.959200  \n",
       "144  22183.982517  \n",
       "145   2104.996300  \n",
       "143  10344.000000  \n",
       "139   9177.137700  \n",
       "141   7508.537100  \n",
       "\n",
       "[7 rows x 48 columns]"
      ]
     },
     "execution_count": 26,
     "metadata": {},
     "output_type": "execute_result"
    }
   ],
   "source": [
    "df[df['hhidpn'] == 10063010].sort_values('riwbegy')"
   ]
  },
  {
   "cell_type": "code",
   "execution_count": 27,
   "metadata": {},
   "outputs": [],
   "source": [
    "df['without_work'] = df['hhidpn'].isin(without_work).astype(int)"
   ]
  },
  {
   "cell_type": "code",
   "execution_count": 28,
   "metadata": {},
   "outputs": [
    {
     "data": {
      "text/plain": [
       "7520"
      ]
     },
     "execution_count": 28,
     "metadata": {},
     "output_type": "execute_result"
    }
   ],
   "source": [
    "df[df['without_work'] == 0]['hhidpn'].nunique()"
   ]
  },
  {
   "cell_type": "code",
   "execution_count": 29,
   "metadata": {},
   "outputs": [
    {
     "data": {
      "text/plain": [
       "24012"
      ]
     },
     "execution_count": 29,
     "metadata": {},
     "output_type": "execute_result"
    }
   ],
   "source": [
    "df[df['without_work'] == 1]['hhidpn'].nunique()"
   ]
  },
  {
   "cell_type": "code",
   "execution_count": 30,
   "metadata": {},
   "outputs": [
    {
     "data": {
      "text/plain": [
       "31532"
      ]
     },
     "execution_count": 30,
     "metadata": {},
     "output_type": "execute_result"
    }
   ],
   "source": [
    "df['hhidpn'].nunique()"
   ]
  },
  {
   "cell_type": "code",
   "execution_count": 31,
   "metadata": {},
   "outputs": [],
   "source": [
    "df.to_csv('../Health_cleaned.csv', index=False)"
   ]
  }
 ],
 "metadata": {
  "kernelspec": {
   "display_name": "Python 3.9.12 ('base')",
   "language": "python",
   "name": "python3"
  },
  "language_info": {
   "codemirror_mode": {
    "name": "ipython",
    "version": 3
   },
   "file_extension": ".py",
   "mimetype": "text/x-python",
   "name": "python",
   "nbconvert_exporter": "python",
   "pygments_lexer": "ipython3",
   "version": "3.9.12"
  },
  "orig_nbformat": 4,
  "vscode": {
   "interpreter": {
    "hash": "1583098d49b8b63b24ba78fec75676b625853923384d7c0eb5f87db36da8a08e"
   }
  }
 },
 "nbformat": 4,
 "nbformat_minor": 2
}
