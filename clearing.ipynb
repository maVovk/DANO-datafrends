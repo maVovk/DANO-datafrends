{
 "cells": [
  {
   "cell_type": "code",
   "execution_count": 156,
   "metadata": {},
   "outputs": [],
   "source": [
    "import numpy as np\n",
    "import pandas as pd\n",
    "import matplotlib.pyplot as plt\n",
    "import seaborn as sns\n",
    "import warnings\n",
    "\n",
    "warnings.filterwarnings('ignore')"
   ]
  },
  {
   "cell_type": "code",
   "execution_count": 157,
   "metadata": {},
   "outputs": [
    {
     "data": {
      "text/plain": [
       "(170761, 42)"
      ]
     },
     "execution_count": 157,
     "metadata": {},
     "output_type": "execute_result"
    }
   ],
   "source": [
    "df = pd.read_csv('../Health.csv')\n",
    "df.shape"
   ]
  },
  {
   "cell_type": "code",
   "execution_count": 145,
   "metadata": {},
   "outputs": [],
   "source": [
    "# тут я выводил количество nan, оказались они только в 1 столбце(верьте мне)\n",
    "df.isna().sum();"
   ]
  },
  {
   "cell_type": "code",
   "execution_count": 146,
   "metadata": {},
   "outputs": [
    {
     "data": {
      "text/plain": [
       "0"
      ]
     },
     "execution_count": 146,
     "metadata": {},
     "output_type": "execute_result"
    }
   ],
   "source": [
    "df.duplicated().sum()"
   ]
  },
  {
   "cell_type": "code",
   "execution_count": 166,
   "metadata": {},
   "outputs": [
    {
     "name": "stdout",
     "output_type": "stream",
     "text": [
      "75232\n"
     ]
    }
   ],
   "source": [
    "missing_codes = ['.', '.d', '.r', '.x', '.q', '.u', '.v', '.s', '.m']\n",
    "cnt_missing = 0\n",
    "\n",
    "for col in df.columns:\n",
    "    values = df[col].value_counts()\n",
    "\n",
    "    for code in missing_codes:\n",
    "        if code in values:\n",
    "            cnt_missing += values[code]\n",
    "\n",
    "print(cnt_missing)"
   ]
  },
  {
   "cell_type": "code",
   "execution_count": null,
   "metadata": {},
   "outputs": [],
   "source": [
    "print(f'Процент пропущенных: {(cnt_missing / (df.shape[0] * df.shape[1]) * 100):.2f}%')"
   ]
  },
  {
   "cell_type": "code",
   "execution_count": 147,
   "metadata": {},
   "outputs": [
    {
     "data": {
      "text/html": [
       "<div>\n",
       "<style scoped>\n",
       "    .dataframe tbody tr th:only-of-type {\n",
       "        vertical-align: middle;\n",
       "    }\n",
       "\n",
       "    .dataframe tbody tr th {\n",
       "        vertical-align: top;\n",
       "    }\n",
       "\n",
       "    .dataframe thead th {\n",
       "        text-align: right;\n",
       "    }\n",
       "</style>\n",
       "<table border=\"1\" class=\"dataframe\">\n",
       "  <thead>\n",
       "    <tr style=\"text-align: right;\">\n",
       "      <th></th>\n",
       "      <th>hhidpn</th>\n",
       "      <th>rmstat</th>\n",
       "      <th>ragender</th>\n",
       "      <th>rahispan</th>\n",
       "      <th>raracem</th>\n",
       "      <th>riwbegy</th>\n",
       "      <th>ragey_b</th>\n",
       "      <th>sagey_b</th>\n",
       "      <th>rhltc</th>\n",
       "      <th>rhlthlm</th>\n",
       "      <th>...</th>\n",
       "      <th>rjcten</th>\n",
       "      <th>index_wave</th>\n",
       "      <th>insured_gov</th>\n",
       "      <th>uninsured</th>\n",
       "      <th>retired</th>\n",
       "      <th>collegeplus</th>\n",
       "      <th>year</th>\n",
       "      <th>cpi</th>\n",
       "      <th>rgov</th>\n",
       "      <th>sgov</th>\n",
       "    </tr>\n",
       "  </thead>\n",
       "  <tbody>\n",
       "    <tr>\n",
       "      <th>40359</th>\n",
       "      <td>42633021</td>\n",
       "      <td>1</td>\n",
       "      <td>1</td>\n",
       "      <td>0</td>\n",
       "      <td>3</td>\n",
       "      <td>15apr2006</td>\n",
       "      <td>53</td>\n",
       "      <td>NaN</td>\n",
       "      <td>3</td>\n",
       "      <td>1</td>\n",
       "      <td>...</td>\n",
       "      <td>.w</td>\n",
       "      <td>8</td>\n",
       "      <td>1</td>\n",
       "      <td>0</td>\n",
       "      <td>0</td>\n",
       "      <td>0</td>\n",
       "      <td>2005</td>\n",
       "      <td>1.133913</td>\n",
       "      <td>4680.0</td>\n",
       "      <td>10032.0</td>\n",
       "    </tr>\n",
       "    <tr>\n",
       "      <th>48942</th>\n",
       "      <td>48544011</td>\n",
       "      <td>1</td>\n",
       "      <td>1</td>\n",
       "      <td>0</td>\n",
       "      <td>1</td>\n",
       "      <td>15oct2006</td>\n",
       "      <td>46</td>\n",
       "      <td>NaN</td>\n",
       "      <td>3</td>\n",
       "      <td>1</td>\n",
       "      <td>...</td>\n",
       "      <td>1.9</td>\n",
       "      <td>8</td>\n",
       "      <td>0</td>\n",
       "      <td>0</td>\n",
       "      <td>0</td>\n",
       "      <td>0</td>\n",
       "      <td>2005</td>\n",
       "      <td>1.133913</td>\n",
       "      <td>0.0</td>\n",
       "      <td>0.0</td>\n",
       "    </tr>\n",
       "    <tr>\n",
       "      <th>85784</th>\n",
       "      <td>85066011</td>\n",
       "      <td>1</td>\n",
       "      <td>1</td>\n",
       "      <td>0</td>\n",
       "      <td>2</td>\n",
       "      <td>15apr2006</td>\n",
       "      <td>68</td>\n",
       "      <td>NaN</td>\n",
       "      <td>3</td>\n",
       "      <td>0</td>\n",
       "      <td>...</td>\n",
       "      <td>.w</td>\n",
       "      <td>8</td>\n",
       "      <td>1</td>\n",
       "      <td>0</td>\n",
       "      <td>100</td>\n",
       "      <td>0</td>\n",
       "      <td>2005</td>\n",
       "      <td>1.133913</td>\n",
       "      <td>7476.0</td>\n",
       "      <td>276.0</td>\n",
       "    </tr>\n",
       "    <tr>\n",
       "      <th>149436</th>\n",
       "      <td>500893010</td>\n",
       "      <td>3</td>\n",
       "      <td>2</td>\n",
       "      <td>0</td>\n",
       "      <td>1</td>\n",
       "      <td>15may2006</td>\n",
       "      <td>54</td>\n",
       "      <td>NaN</td>\n",
       "      <td>4</td>\n",
       "      <td>0</td>\n",
       "      <td>...</td>\n",
       "      <td>26.7</td>\n",
       "      <td>2</td>\n",
       "      <td>0</td>\n",
       "      <td>0</td>\n",
       "      <td>0</td>\n",
       "      <td>1</td>\n",
       "      <td>2005</td>\n",
       "      <td>1.133913</td>\n",
       "      <td>0.0</td>\n",
       "      <td>0.0</td>\n",
       "    </tr>\n",
       "  </tbody>\n",
       "</table>\n",
       "<p>4 rows × 42 columns</p>\n",
       "</div>"
      ],
      "text/plain": [
       "           hhidpn rmstat  ragender rahispan raracem    riwbegy ragey_b  \\\n",
       "40359    42633021      1         1        0       3  15apr2006      53   \n",
       "48942    48544011      1         1        0       1  15oct2006      46   \n",
       "85784    85066011      1         1        0       2  15apr2006      68   \n",
       "149436  500893010      3         2        0       1  15may2006      54   \n",
       "\n",
       "       sagey_b rhltc rhlthlm  ... rjcten index_wave insured_gov uninsured  \\\n",
       "40359      NaN     3       1  ...     .w          8           1         0   \n",
       "48942      NaN     3       1  ...    1.9          8           0         0   \n",
       "85784      NaN     3       0  ...     .w          8           1         0   \n",
       "149436     NaN     4       0  ...   26.7          2           0         0   \n",
       "\n",
       "       retired collegeplus  year       cpi    rgov     sgov  \n",
       "40359        0           0  2005  1.133913  4680.0  10032.0  \n",
       "48942        0           0  2005  1.133913     0.0      0.0  \n",
       "85784      100           0  2005  1.133913  7476.0    276.0  \n",
       "149436       0           1  2005  1.133913     0.0      0.0  \n",
       "\n",
       "[4 rows x 42 columns]"
      ]
     },
     "execution_count": 147,
     "metadata": {},
     "output_type": "execute_result"
    }
   ],
   "source": [
    "df[df['sagey_b'].isna()]"
   ]
  },
  {
   "cell_type": "code",
   "execution_count": 148,
   "metadata": {},
   "outputs": [],
   "source": [
    "df['sagey_b'].fillna('.r', inplace=True) # будем считать, что те 4 человека отказались от ответа"
   ]
  },
  {
   "cell_type": "code",
   "execution_count": 21,
   "metadata": {},
   "outputs": [
    {
     "data": {
      "text/plain": [
       "count    170761.000000\n",
       "mean       6545.835385\n",
       "std        7697.727228\n",
       "min           0.000000\n",
       "25%           0.000000\n",
       "50%        5208.233900\n",
       "75%       11346.187000\n",
       "max      112269.450000\n",
       "Name: rgov, dtype: float64"
      ]
     },
     "execution_count": 21,
     "metadata": {},
     "output_type": "execute_result"
    }
   ],
   "source": [
    "df['rgov'].describe()"
   ]
  },
  {
   "cell_type": "code",
   "execution_count": 26,
   "metadata": {},
   "outputs": [
    {
     "data": {
      "text/plain": [
       "count    170761.000000\n",
       "mean       3856.876258\n",
       "std        7071.853159\n",
       "min           0.000000\n",
       "25%           0.000000\n",
       "50%           0.000000\n",
       "75%        6492.137200\n",
       "max      159528.700000\n",
       "Name: sgov, dtype: float64"
      ]
     },
     "execution_count": 26,
     "metadata": {},
     "output_type": "execute_result"
    }
   ],
   "source": [
    "# надо будет подумать, являются ли эти данные выбросами(скорее нет)\n",
    "df['sgov'].describe()"
   ]
  },
  {
   "cell_type": "code",
   "execution_count": 162,
   "metadata": {},
   "outputs": [],
   "source": [
    "import datetime\n",
    "\n",
    "months = ['jan', 'feb', 'mar', 'apr', 'may', 'jun', 'jul', 'aug', 'sep', 'oct', 'nov', 'dec']\n",
    "\n",
    "def parse_date(el):\n",
    "    day, month, year = el[:2], el[2:5], el[5:]\n",
    "\n",
    "    return datetime.date(int(year), months.index(month) + 1, int(day))\n",
    "\n",
    "\n",
    "df['riwbegy'] = df['riwbegy'].apply(parse_date)"
   ]
  },
  {
   "cell_type": "code",
   "execution_count": 159,
   "metadata": {},
   "outputs": [],
   "source": [
    "df_without_missed_ragey_b = df[df['ragey_b'] != '.m'];\n",
    "df_without_missed_ragey_b['ragey_b'] = df_without_missed_ragey_b['ragey_b'].astype(int);\n",
    "\n",
    "median_age_by_wave = df_without_missed_ragey_b.groupby('index_wave')['ragey_b'].median();"
   ]
  },
  {
   "cell_type": "code",
   "execution_count": 160,
   "metadata": {},
   "outputs": [],
   "source": [
    "def fill_missing_ragey_b(el):\n",
    "    if el['ragey_b'] == '.m':\n",
    "        return median_age_by_wave[el['index_wave']]\n",
    "    else:\n",
    "        return el['ragey_b']\n",
    "\n",
    "df['ragey_b'] = df.apply(fill_missing_ragey_b, axis=1)\n",
    "df['ragey_b'] = df['ragey_b'].astype(int)\n",
    "\n",
    "df['year_of_birth'] = df['year'] - df['ragey_b']"
   ]
  },
  {
   "cell_type": "code",
   "execution_count": 163,
   "metadata": {},
   "outputs": [],
   "source": [
    "# get year from riwbegy column\n",
    "df['year_of_interview'] = df['riwbegy'].apply(lambda x: x.year)\n",
    "\n",
    "# get year of birth\n",
    "df['year_of_birth'] = df.apply(lambda x: x.year_of_interview - x.ragey_b, axis=1)"
   ]
  },
  {
   "cell_type": "code",
   "execution_count": 164,
   "metadata": {},
   "outputs": [],
   "source": [
    "df['total_work_earn'] = df['riearn'] + df['siearn']\n",
    "df['total_pension_earn'] = df['ripena'] + df['sipena']\n",
    "df['total_gov_income'] = df['rgov'] + df['sgov']\n",
    "\n",
    "df['total_income'] = df['total_work_earn'] + df['total_pension_earn'] + df['total_gov_income']"
   ]
  },
  {
   "cell_type": "code",
   "execution_count": 165,
   "metadata": {},
   "outputs": [
    {
     "data": {
      "text/plain": [
       "count    1.707610e+05\n",
       "mean     4.449124e+04\n",
       "std      5.282410e+04\n",
       "min      0.000000e+00\n",
       "25%      1.519674e+04\n",
       "50%      2.991608e+04\n",
       "75%      5.718045e+04\n",
       "max      6.875386e+06\n",
       "Name: total_income, dtype: float64"
      ]
     },
     "execution_count": 165,
     "metadata": {},
     "output_type": "execute_result"
    }
   ],
   "source": [
    "df['total_income'].describe()"
   ]
  },
  {
   "cell_type": "code",
   "execution_count": 27,
   "metadata": {},
   "outputs": [
    {
     "data": {
      "text/html": [
       "<div>\n",
       "<style scoped>\n",
       "    .dataframe tbody tr th:only-of-type {\n",
       "        vertical-align: middle;\n",
       "    }\n",
       "\n",
       "    .dataframe tbody tr th {\n",
       "        vertical-align: top;\n",
       "    }\n",
       "\n",
       "    .dataframe thead th {\n",
       "        text-align: right;\n",
       "    }\n",
       "</style>\n",
       "<table border=\"1\" class=\"dataframe\">\n",
       "  <thead>\n",
       "    <tr style=\"text-align: right;\">\n",
       "      <th></th>\n",
       "      <th>riearn</th>\n",
       "      <th>ripena</th>\n",
       "      <th>siearn</th>\n",
       "      <th>sipena</th>\n",
       "    </tr>\n",
       "  </thead>\n",
       "  <tbody>\n",
       "    <tr>\n",
       "      <th>count</th>\n",
       "      <td>170761.000000</td>\n",
       "      <td>170761.000000</td>\n",
       "      <td>170761.000000</td>\n",
       "      <td>1.707610e+05</td>\n",
       "    </tr>\n",
       "    <tr>\n",
       "      <th>mean</th>\n",
       "      <td>15702.244733</td>\n",
       "      <td>3764.862189</td>\n",
       "      <td>12042.235232</td>\n",
       "      <td>2.579190e+03</td>\n",
       "    </tr>\n",
       "    <tr>\n",
       "      <th>std</th>\n",
       "      <td>33371.000325</td>\n",
       "      <td>12092.210896</td>\n",
       "      <td>30816.336503</td>\n",
       "      <td>2.217670e+04</td>\n",
       "    </tr>\n",
       "    <tr>\n",
       "      <th>min</th>\n",
       "      <td>0.000000</td>\n",
       "      <td>0.000000</td>\n",
       "      <td>0.000000</td>\n",
       "      <td>0.000000e+00</td>\n",
       "    </tr>\n",
       "    <tr>\n",
       "      <th>25%</th>\n",
       "      <td>0.000000</td>\n",
       "      <td>0.000000</td>\n",
       "      <td>0.000000</td>\n",
       "      <td>0.000000e+00</td>\n",
       "    </tr>\n",
       "    <tr>\n",
       "      <th>50%</th>\n",
       "      <td>0.000000</td>\n",
       "      <td>0.000000</td>\n",
       "      <td>0.000000</td>\n",
       "      <td>0.000000e+00</td>\n",
       "    </tr>\n",
       "    <tr>\n",
       "      <th>75%</th>\n",
       "      <td>21089.415692</td>\n",
       "      <td>0.000000</td>\n",
       "      <td>8000.000000</td>\n",
       "      <td>0.000000e+00</td>\n",
       "    </tr>\n",
       "    <tr>\n",
       "      <th>max</th>\n",
       "      <td>643233.038611</td>\n",
       "      <td>319329.942983</td>\n",
       "      <td>615098.104813</td>\n",
       "      <td>6.780589e+06</td>\n",
       "    </tr>\n",
       "  </tbody>\n",
       "</table>\n",
       "</div>"
      ],
      "text/plain": [
       "              riearn         ripena         siearn        sipena\n",
       "count  170761.000000  170761.000000  170761.000000  1.707610e+05\n",
       "mean    15702.244733    3764.862189   12042.235232  2.579190e+03\n",
       "std     33371.000325   12092.210896   30816.336503  2.217670e+04\n",
       "min         0.000000       0.000000       0.000000  0.000000e+00\n",
       "25%         0.000000       0.000000       0.000000  0.000000e+00\n",
       "50%         0.000000       0.000000       0.000000  0.000000e+00\n",
       "75%     21089.415692       0.000000    8000.000000  0.000000e+00\n",
       "max    643233.038611  319329.942983  615098.104813  6.780589e+06"
      ]
     },
     "execution_count": 27,
     "metadata": {},
     "output_type": "execute_result"
    }
   ],
   "source": [
    "# а тут меня очень смущает максимум в столбце sipena, мб это выброс\n",
    "df.iloc[:, 21:25].describe()"
   ]
  },
  {
   "cell_type": "code",
   "execution_count": 171,
   "metadata": {},
   "outputs": [],
   "source": [
    "df.to_csv('../Health_cleaned.csv', index=False)"
   ]
  }
 ],
 "metadata": {
  "kernelspec": {
   "display_name": "Python 3.9.13 ('base')",
   "language": "python",
   "name": "python3"
  },
  "language_info": {
   "codemirror_mode": {
    "name": "ipython",
    "version": 3
   },
   "file_extension": ".py",
   "mimetype": "text/x-python",
   "name": "python",
   "nbconvert_exporter": "python",
   "pygments_lexer": "ipython3",
   "version": "3.9.13"
  },
  "orig_nbformat": 4,
  "vscode": {
   "interpreter": {
    "hash": "c215457064b6f697f7ec0c87f9d860954ff8ee2626f5171be7fac5331e113804"
   }
  }
 },
 "nbformat": 4,
 "nbformat_minor": 2
}
