{
 "cells": [
  {
   "cell_type": "code",
   "execution_count": 29,
   "metadata": {},
   "outputs": [],
   "source": [
    "import pandas as pd\n",
    "import numpy as np\n",
    "import plotly.graph_objects as go\n",
    "from scipy import stats"
   ]
  },
  {
   "cell_type": "code",
   "execution_count": 2,
   "metadata": {},
   "outputs": [
    {
     "data": {
      "text/plain": [
       "(170761, 63)"
      ]
     },
     "execution_count": 2,
     "metadata": {},
     "output_type": "execute_result"
    }
   ],
   "source": [
    "df = pd.read_csv('../Health_cleaned_income_delta.csv', low_memory=False)\n",
    "df.shape"
   ]
  },
  {
   "cell_type": "code",
   "execution_count": 3,
   "metadata": {},
   "outputs": [],
   "source": [
    "columns_to_int = ['rmstat', 'ragender', 'rahispan', 'raracem', 'ragey_b', 'sagey_b', 'rhltc', 'rhlthlm', 'rhibpe',\n",
    "        'rdiabe', 'rcancre', 'rlunge', 'rhearte', 'rstroke', 'rpsyche', 'rarthre', 'rhosp', 'rhspnit', 'oop_spend',\n",
    "        'rlbrf', 'rjphys', 'rjlift', 'rjweeks', 'rjweek2', 'rjcten', 'index_wave', 'insured_gov', 'uninsured',\n",
    "        'retired', 'collegeplus', 'year', 'inter_year', 'year_of_birth', 'without_work', 'n_jobs', 'broken']"
   ]
  },
  {
   "cell_type": "code",
   "execution_count": 4,
   "metadata": {},
   "outputs": [],
   "source": [
    "def to_int(el):\n",
    "    try:\n",
    "        return int(el)\n",
    "    except ValueError:\n",
    "        return el"
   ]
  },
  {
   "cell_type": "code",
   "execution_count": 5,
   "metadata": {},
   "outputs": [],
   "source": [
    "for col in columns_to_int:\n",
    "    df[col] = df[col].apply(to_int)"
   ]
  },
  {
   "cell_type": "code",
   "execution_count": 6,
   "metadata": {},
   "outputs": [],
   "source": [
    "marriage_groups = ['married', 'separated', 'dead spouse', 'never married', 'divorced']\n",
    "age_groups = ['young', 'middle', 'old', 'dead outside']"
   ]
  },
  {
   "cell_type": "code",
   "execution_count": 7,
   "metadata": {},
   "outputs": [],
   "source": [
    "rmstat_df = df[(df['rmstat'] != '.m') & (df['rhltc'] != '.m')]"
   ]
  },
  {
   "cell_type": "code",
   "execution_count": 13,
   "metadata": {},
   "outputs": [
    {
     "data": {
      "text/plain": [
       "array([1, 4, 7, 5, 3, 8, 2, 6], dtype=object)"
      ]
     },
     "execution_count": 13,
     "metadata": {},
     "output_type": "execute_result"
    }
   ],
   "source": [
    "rmstat_df['rmstat'].unique()"
   ]
  },
  {
   "cell_type": "code",
   "execution_count": 34,
   "metadata": {},
   "outputs": [],
   "source": [
    "def calculate_confidence_interval(df, group_name, groups, column, confidence=0.99):\n",
    "    errors = []\n",
    "\n",
    "    for group in groups:\n",
    "        group_df = df[df[group_name] == group]\n",
    "        n = len(group_df)\n",
    "        mean, se = group_df[column].mean(), stats.sem(group_df[column])\n",
    "        h = se * stats.t._ppf((1 + confidence) / 2., n-1)\n",
    "        errors.append(h)\n",
    "    \n",
    "    return errors"
   ]
  },
  {
   "cell_type": "code",
   "execution_count": 76,
   "metadata": {},
   "outputs": [],
   "source": [
    "colors = ['#3367f5', '#fc4747', '#00CC96', '#ed47fc', '#fcab47', '#41b9fa', '#b447fc', '#47fc83']"
   ]
  },
  {
   "cell_type": "code",
   "execution_count": 151,
   "metadata": {},
   "outputs": [
    {
     "data": {
      "application/vnd.plotly.v1+json": {
       "config": {
        "plotlyServerURL": "https://plot.ly"
       },
       "data": [
        {
         "error_y": {
          "array": [
           0.005353351388342363,
           0.06007826286878629,
           0.025692790769393428,
           0.039389433688347436,
           0.01593222266855552,
           0.065015852557795,
           0.01063911552801519,
           0.024786559119644423
          ],
          "type": "data",
          "visible": true
         },
         "marker": {
          "color": [
           "#3367f5",
           "#fc4747",
           "#00CC96",
           "#ed47fc",
           "#fcab47",
           "#41b9fa",
           "#b447fc",
           "#47fc83"
          ]
         },
         "textposition": "outside",
         "texttemplate": [
          "58.68",
          "58.77",
          "57.23",
          "58.27",
          "59.26",
          "58.63",
          "61.02",
          "58.77"
         ],
         "type": "bar",
         "width": [
          0.6,
          0.6,
          0.6,
          0.6,
          0.6,
          0.6,
          0.6,
          0.6
         ],
         "x": [
          1,
          2,
          3,
          4,
          5,
          6,
          7,
          8
         ],
         "y": [
          -0.04637269735302834,
          -0.1,
          -0.05513934671860953,
          -0.1465798045602606,
          -0.10071090047393365,
          -0.0968054211035818,
          -0.12079062957540264,
          -0.08460388639760837
         ]
        }
       ],
       "layout": {
        "annotations": [
         {
          "arrowhead": 1,
          "ay": 120,
          "showarrow": true,
          "text": "Среднее по всем группам: -0.06",
          "x": 7.5,
          "y": -0.14
         }
        ],
        "height": 600,
        "shapes": [
         {
          "line": {
           "color": "black",
           "dash": "dash",
           "width": 1
          },
          "type": "line",
          "x0": 0,
          "x1": 1,
          "xref": "x domain",
          "y0": -0.06221172609544084,
          "y1": -0.06221172609544084,
          "yref": "y"
         }
        ],
        "template": {
         "data": {
          "bar": [
           {
            "error_x": {
             "color": "#2a3f5f"
            },
            "error_y": {
             "color": "#2a3f5f"
            },
            "marker": {
             "line": {
              "color": "#E5ECF6",
              "width": 0.5
             },
             "pattern": {
              "fillmode": "overlay",
              "size": 10,
              "solidity": 0.2
             }
            },
            "type": "bar"
           }
          ],
          "barpolar": [
           {
            "marker": {
             "line": {
              "color": "#E5ECF6",
              "width": 0.5
             },
             "pattern": {
              "fillmode": "overlay",
              "size": 10,
              "solidity": 0.2
             }
            },
            "type": "barpolar"
           }
          ],
          "carpet": [
           {
            "aaxis": {
             "endlinecolor": "#2a3f5f",
             "gridcolor": "white",
             "linecolor": "white",
             "minorgridcolor": "white",
             "startlinecolor": "#2a3f5f"
            },
            "baxis": {
             "endlinecolor": "#2a3f5f",
             "gridcolor": "white",
             "linecolor": "white",
             "minorgridcolor": "white",
             "startlinecolor": "#2a3f5f"
            },
            "type": "carpet"
           }
          ],
          "choropleth": [
           {
            "colorbar": {
             "outlinewidth": 0,
             "ticks": ""
            },
            "type": "choropleth"
           }
          ],
          "contour": [
           {
            "colorbar": {
             "outlinewidth": 0,
             "ticks": ""
            },
            "colorscale": [
             [
              0,
              "#0d0887"
             ],
             [
              0.1111111111111111,
              "#46039f"
             ],
             [
              0.2222222222222222,
              "#7201a8"
             ],
             [
              0.3333333333333333,
              "#9c179e"
             ],
             [
              0.4444444444444444,
              "#bd3786"
             ],
             [
              0.5555555555555556,
              "#d8576b"
             ],
             [
              0.6666666666666666,
              "#ed7953"
             ],
             [
              0.7777777777777778,
              "#fb9f3a"
             ],
             [
              0.8888888888888888,
              "#fdca26"
             ],
             [
              1,
              "#f0f921"
             ]
            ],
            "type": "contour"
           }
          ],
          "contourcarpet": [
           {
            "colorbar": {
             "outlinewidth": 0,
             "ticks": ""
            },
            "type": "contourcarpet"
           }
          ],
          "heatmap": [
           {
            "colorbar": {
             "outlinewidth": 0,
             "ticks": ""
            },
            "colorscale": [
             [
              0,
              "#0d0887"
             ],
             [
              0.1111111111111111,
              "#46039f"
             ],
             [
              0.2222222222222222,
              "#7201a8"
             ],
             [
              0.3333333333333333,
              "#9c179e"
             ],
             [
              0.4444444444444444,
              "#bd3786"
             ],
             [
              0.5555555555555556,
              "#d8576b"
             ],
             [
              0.6666666666666666,
              "#ed7953"
             ],
             [
              0.7777777777777778,
              "#fb9f3a"
             ],
             [
              0.8888888888888888,
              "#fdca26"
             ],
             [
              1,
              "#f0f921"
             ]
            ],
            "type": "heatmap"
           }
          ],
          "heatmapgl": [
           {
            "colorbar": {
             "outlinewidth": 0,
             "ticks": ""
            },
            "colorscale": [
             [
              0,
              "#0d0887"
             ],
             [
              0.1111111111111111,
              "#46039f"
             ],
             [
              0.2222222222222222,
              "#7201a8"
             ],
             [
              0.3333333333333333,
              "#9c179e"
             ],
             [
              0.4444444444444444,
              "#bd3786"
             ],
             [
              0.5555555555555556,
              "#d8576b"
             ],
             [
              0.6666666666666666,
              "#ed7953"
             ],
             [
              0.7777777777777778,
              "#fb9f3a"
             ],
             [
              0.8888888888888888,
              "#fdca26"
             ],
             [
              1,
              "#f0f921"
             ]
            ],
            "type": "heatmapgl"
           }
          ],
          "histogram": [
           {
            "marker": {
             "pattern": {
              "fillmode": "overlay",
              "size": 10,
              "solidity": 0.2
             }
            },
            "type": "histogram"
           }
          ],
          "histogram2d": [
           {
            "colorbar": {
             "outlinewidth": 0,
             "ticks": ""
            },
            "colorscale": [
             [
              0,
              "#0d0887"
             ],
             [
              0.1111111111111111,
              "#46039f"
             ],
             [
              0.2222222222222222,
              "#7201a8"
             ],
             [
              0.3333333333333333,
              "#9c179e"
             ],
             [
              0.4444444444444444,
              "#bd3786"
             ],
             [
              0.5555555555555556,
              "#d8576b"
             ],
             [
              0.6666666666666666,
              "#ed7953"
             ],
             [
              0.7777777777777778,
              "#fb9f3a"
             ],
             [
              0.8888888888888888,
              "#fdca26"
             ],
             [
              1,
              "#f0f921"
             ]
            ],
            "type": "histogram2d"
           }
          ],
          "histogram2dcontour": [
           {
            "colorbar": {
             "outlinewidth": 0,
             "ticks": ""
            },
            "colorscale": [
             [
              0,
              "#0d0887"
             ],
             [
              0.1111111111111111,
              "#46039f"
             ],
             [
              0.2222222222222222,
              "#7201a8"
             ],
             [
              0.3333333333333333,
              "#9c179e"
             ],
             [
              0.4444444444444444,
              "#bd3786"
             ],
             [
              0.5555555555555556,
              "#d8576b"
             ],
             [
              0.6666666666666666,
              "#ed7953"
             ],
             [
              0.7777777777777778,
              "#fb9f3a"
             ],
             [
              0.8888888888888888,
              "#fdca26"
             ],
             [
              1,
              "#f0f921"
             ]
            ],
            "type": "histogram2dcontour"
           }
          ],
          "mesh3d": [
           {
            "colorbar": {
             "outlinewidth": 0,
             "ticks": ""
            },
            "type": "mesh3d"
           }
          ],
          "parcoords": [
           {
            "line": {
             "colorbar": {
              "outlinewidth": 0,
              "ticks": ""
             }
            },
            "type": "parcoords"
           }
          ],
          "pie": [
           {
            "automargin": true,
            "type": "pie"
           }
          ],
          "scatter": [
           {
            "marker": {
             "colorbar": {
              "outlinewidth": 0,
              "ticks": ""
             }
            },
            "type": "scatter"
           }
          ],
          "scatter3d": [
           {
            "line": {
             "colorbar": {
              "outlinewidth": 0,
              "ticks": ""
             }
            },
            "marker": {
             "colorbar": {
              "outlinewidth": 0,
              "ticks": ""
             }
            },
            "type": "scatter3d"
           }
          ],
          "scattercarpet": [
           {
            "marker": {
             "colorbar": {
              "outlinewidth": 0,
              "ticks": ""
             }
            },
            "type": "scattercarpet"
           }
          ],
          "scattergeo": [
           {
            "marker": {
             "colorbar": {
              "outlinewidth": 0,
              "ticks": ""
             }
            },
            "type": "scattergeo"
           }
          ],
          "scattergl": [
           {
            "marker": {
             "colorbar": {
              "outlinewidth": 0,
              "ticks": ""
             }
            },
            "type": "scattergl"
           }
          ],
          "scattermapbox": [
           {
            "marker": {
             "colorbar": {
              "outlinewidth": 0,
              "ticks": ""
             }
            },
            "type": "scattermapbox"
           }
          ],
          "scatterpolar": [
           {
            "marker": {
             "colorbar": {
              "outlinewidth": 0,
              "ticks": ""
             }
            },
            "type": "scatterpolar"
           }
          ],
          "scatterpolargl": [
           {
            "marker": {
             "colorbar": {
              "outlinewidth": 0,
              "ticks": ""
             }
            },
            "type": "scatterpolargl"
           }
          ],
          "scatterternary": [
           {
            "marker": {
             "colorbar": {
              "outlinewidth": 0,
              "ticks": ""
             }
            },
            "type": "scatterternary"
           }
          ],
          "surface": [
           {
            "colorbar": {
             "outlinewidth": 0,
             "ticks": ""
            },
            "colorscale": [
             [
              0,
              "#0d0887"
             ],
             [
              0.1111111111111111,
              "#46039f"
             ],
             [
              0.2222222222222222,
              "#7201a8"
             ],
             [
              0.3333333333333333,
              "#9c179e"
             ],
             [
              0.4444444444444444,
              "#bd3786"
             ],
             [
              0.5555555555555556,
              "#d8576b"
             ],
             [
              0.6666666666666666,
              "#ed7953"
             ],
             [
              0.7777777777777778,
              "#fb9f3a"
             ],
             [
              0.8888888888888888,
              "#fdca26"
             ],
             [
              1,
              "#f0f921"
             ]
            ],
            "type": "surface"
           }
          ],
          "table": [
           {
            "cells": {
             "fill": {
              "color": "#EBF0F8"
             },
             "line": {
              "color": "white"
             }
            },
            "header": {
             "fill": {
              "color": "#C8D4E3"
             },
             "line": {
              "color": "white"
             }
            },
            "type": "table"
           }
          ]
         },
         "layout": {
          "annotationdefaults": {
           "arrowcolor": "#2a3f5f",
           "arrowhead": 0,
           "arrowwidth": 1
          },
          "autotypenumbers": "strict",
          "coloraxis": {
           "colorbar": {
            "outlinewidth": 0,
            "ticks": ""
           }
          },
          "colorscale": {
           "diverging": [
            [
             0,
             "#8e0152"
            ],
            [
             0.1,
             "#c51b7d"
            ],
            [
             0.2,
             "#de77ae"
            ],
            [
             0.3,
             "#f1b6da"
            ],
            [
             0.4,
             "#fde0ef"
            ],
            [
             0.5,
             "#f7f7f7"
            ],
            [
             0.6,
             "#e6f5d0"
            ],
            [
             0.7,
             "#b8e186"
            ],
            [
             0.8,
             "#7fbc41"
            ],
            [
             0.9,
             "#4d9221"
            ],
            [
             1,
             "#276419"
            ]
           ],
           "sequential": [
            [
             0,
             "#0d0887"
            ],
            [
             0.1111111111111111,
             "#46039f"
            ],
            [
             0.2222222222222222,
             "#7201a8"
            ],
            [
             0.3333333333333333,
             "#9c179e"
            ],
            [
             0.4444444444444444,
             "#bd3786"
            ],
            [
             0.5555555555555556,
             "#d8576b"
            ],
            [
             0.6666666666666666,
             "#ed7953"
            ],
            [
             0.7777777777777778,
             "#fb9f3a"
            ],
            [
             0.8888888888888888,
             "#fdca26"
            ],
            [
             1,
             "#f0f921"
            ]
           ],
           "sequentialminus": [
            [
             0,
             "#0d0887"
            ],
            [
             0.1111111111111111,
             "#46039f"
            ],
            [
             0.2222222222222222,
             "#7201a8"
            ],
            [
             0.3333333333333333,
             "#9c179e"
            ],
            [
             0.4444444444444444,
             "#bd3786"
            ],
            [
             0.5555555555555556,
             "#d8576b"
            ],
            [
             0.6666666666666666,
             "#ed7953"
            ],
            [
             0.7777777777777778,
             "#fb9f3a"
            ],
            [
             0.8888888888888888,
             "#fdca26"
            ],
            [
             1,
             "#f0f921"
            ]
           ]
          },
          "colorway": [
           "#636efa",
           "#EF553B",
           "#00cc96",
           "#ab63fa",
           "#FFA15A",
           "#19d3f3",
           "#FF6692",
           "#B6E880",
           "#FF97FF",
           "#FECB52"
          ],
          "font": {
           "color": "#2a3f5f"
          },
          "geo": {
           "bgcolor": "white",
           "lakecolor": "white",
           "landcolor": "#E5ECF6",
           "showlakes": true,
           "showland": true,
           "subunitcolor": "white"
          },
          "hoverlabel": {
           "align": "left"
          },
          "hovermode": "closest",
          "mapbox": {
           "style": "light"
          },
          "paper_bgcolor": "white",
          "plot_bgcolor": "#E5ECF6",
          "polar": {
           "angularaxis": {
            "gridcolor": "white",
            "linecolor": "white",
            "ticks": ""
           },
           "bgcolor": "#E5ECF6",
           "radialaxis": {
            "gridcolor": "white",
            "linecolor": "white",
            "ticks": ""
           }
          },
          "scene": {
           "xaxis": {
            "backgroundcolor": "#E5ECF6",
            "gridcolor": "white",
            "gridwidth": 2,
            "linecolor": "white",
            "showbackground": true,
            "ticks": "",
            "zerolinecolor": "white"
           },
           "yaxis": {
            "backgroundcolor": "#E5ECF6",
            "gridcolor": "white",
            "gridwidth": 2,
            "linecolor": "white",
            "showbackground": true,
            "ticks": "",
            "zerolinecolor": "white"
           },
           "zaxis": {
            "backgroundcolor": "#E5ECF6",
            "gridcolor": "white",
            "gridwidth": 2,
            "linecolor": "white",
            "showbackground": true,
            "ticks": "",
            "zerolinecolor": "white"
           }
          },
          "shapedefaults": {
           "line": {
            "color": "#2a3f5f"
           }
          },
          "ternary": {
           "aaxis": {
            "gridcolor": "white",
            "linecolor": "white",
            "ticks": ""
           },
           "baxis": {
            "gridcolor": "white",
            "linecolor": "white",
            "ticks": ""
           },
           "bgcolor": "#E5ECF6",
           "caxis": {
            "gridcolor": "white",
            "linecolor": "white",
            "ticks": ""
           }
          },
          "title": {
           "x": 0.05
          },
          "xaxis": {
           "automargin": true,
           "gridcolor": "white",
           "linecolor": "white",
           "ticks": "",
           "title": {
            "standoff": 15
           },
           "zerolinecolor": "white",
           "zerolinewidth": 2
          },
          "yaxis": {
           "automargin": true,
           "gridcolor": "white",
           "linecolor": "white",
           "ticks": "",
           "title": {
            "standoff": 15
           },
           "zerolinecolor": "white",
           "zerolinewidth": 2
          }
         }
        },
        "title": {
         "text": "Среднее изменение здоровья в разных семейных статусах"
        },
        "width": 900,
        "xaxis": {
         "title": {
          "text": "Семейный статус"
         }
        },
        "yaxis": {
         "range": [
          -0.5,
          0
         ],
         "title": {
          "text": "Среднее значение rhltc"
         }
        }
       }
      }
     },
     "metadata": {},
     "output_type": "display_data"
    }
   ],
   "source": [
    "fig = go.Figure()\n",
    "\n",
    "groups = [x for x in range(1, 9)]\n",
    "\n",
    "errors = calculate_confidence_interval(rmstat_df, 'rmstat', groups, 'rhltc')\n",
    "tmp = rmstat_df[rmstat_df['ragey_b'] <= 67]\n",
    "\n",
    "group_data = tmp.groupby('rmstat')['rhltc'].mean()\n",
    "all_mean_rhltc = tmp['rhltc'].mean()\n",
    "\n",
    "fig.add_trace(go.Bar(\n",
    "    x=group_data.index,\n",
    "    y=group_data.values,\n",
    "    error_y=dict(type='data', array=errors, visible=True),\n",
    "    width=[0.6 for _ in range(8)],\n",
    "    texttemplate=[f'{x:.2f}' for x in tmp.groupby('rmstat')['ragey_b'].mean().reindex(groups).values],\n",
    "    textposition='outside',\n",
    "    marker_color=colors\n",
    "))\n",
    "\n",
    "fig.update_layout(\n",
    "    title='Среднее изменение здоровья в разных семейных статусах',\n",
    "    xaxis_title='Семейный статус',\n",
    "    yaxis_title='Среднее значение rhltc',\n",
    "    width=900, height=600\n",
    ")\n",
    "\n",
    "fig.update_yaxes(range=[-0.5, 0])\n",
    "\n",
    "fig.add_hline(\n",
    "    y=all_mean_rhltc,\n",
    "    line_dash='dash',\n",
    "    line_color='black',\n",
    "    line_width=1,\n",
    ")\n",
    "\n",
    "fig.add_annotation(x=7.5, y=-0.14,\n",
    "    text=f'Среднее по всем группам: {all_mean_rhltc:.2f}',\n",
    "    showarrow=True,\n",
    "    arrowhead=1,\n",
    "    ay=120)\n",
    "\n",
    "fig.show()"
   ]
  },
  {
   "attachments": {},
   "cell_type": "markdown",
   "metadata": {},
   "source": [
    "todo: на график выше добавить средний возраст в каждый столбец, графически выделить плохие и хорошие группы"
   ]
  },
  {
   "cell_type": "code",
   "execution_count": null,
   "metadata": {},
   "outputs": [],
   "source": [
    "rmstat_df['ragender'].replace({1: 'male', 2: 'female'}, inplace=True)"
   ]
  },
  {
   "cell_type": "code",
   "execution_count": 130,
   "metadata": {},
   "outputs": [
    {
     "data": {
      "text/plain": [
       "Index(['hhidpn', 'rmstat', 'ragender', 'rahispan', 'raracem', 'riwbegy',\n",
       "       'ragey_b', 'sagey_b', 'rhltc', 'rhlthlm', 'rhibpe', 'rdiabe', 'rcancre',\n",
       "       'rlunge', 'rhearte', 'rstroke', 'rpsyche', 'rarthre', 'rhosp',\n",
       "       'rhspnit', 'oop_spend', 'riearn', 'ripena', 'siearn', 'sipena', 'rcovr',\n",
       "       'rcovs', 'rlbrf', 'rjphys', 'rjlift', 'rjweeks', 'rjweek2', 'rjcten',\n",
       "       'index_wave', 'insured_gov', 'uninsured', 'retired', 'collegeplus',\n",
       "       'year', 'cpi', 'rgov', 'sgov', 'inter_year', 'year_of_birth',\n",
       "       'total_work_income', 'total_pension_income', 'total_gov_income',\n",
       "       'total_income', 'without_work', 'n_jobs', 'riearn_delta',\n",
       "       'siearn_delta', 'ripena_delta', 'sipena_delta', 'rgov_delta',\n",
       "       'sgov_delta', 'total_work_income_delta', 'total_pension_income_delta',\n",
       "       'total_gov_income_delta', 'total_income_delta', 'broken',\n",
       "       'marriage_group', 'age_group'],\n",
       "      dtype='object')"
      ]
     },
     "execution_count": 130,
     "metadata": {},
     "output_type": "execute_result"
    }
   ],
   "source": [
    "rmstat_df.columns"
   ]
  },
  {
   "cell_type": "code",
   "execution_count": 148,
   "metadata": {},
   "outputs": [
    {
     "data": {
      "application/vnd.plotly.v1+json": {
       "config": {
        "plotlyServerURL": "https://plot.ly"
       },
       "data": [
        {
         "name": "Married",
         "textposition": "outside",
         "texttemplate": [
          "54.92",
          "64.00",
          "80.42",
          "90.61"
         ],
         "type": "bar",
         "x": [
          "young",
          "middle",
          "old",
          "dead outside"
         ],
         "y": [
          -0.03323318413146115,
          -0.09259333041157018,
          -0.31312939388181643,
          -0.5602409638554217
         ]
        },
        {
         "name": "Separated",
         "textposition": "outside",
         "texttemplate": [
          "55.98",
          "61.40",
          "82.11",
          "92.43"
         ],
         "type": "bar",
         "x": [
          "young",
          "middle",
          "old",
          "dead outside"
         ],
         "y": [
          -0.11161387631975868,
          -0.14328582145536384,
          -0.2980132450331126,
          0
         ]
        },
        {
         "name": "Dead Spouse",
         "textposition": "outside",
         "texttemplate": [
          "57.26",
          "69.52",
          "83.94",
          "92.70"
         ],
         "type": "bar",
         "x": [
          "young",
          "middle",
          "old",
          "dead outside"
         ],
         "y": [
          -0.08722264728385616,
          -0.17773823645709766,
          -0.35584604212055193,
          -0.48909657320872274
         ]
        },
        {
         "name": "Never Married",
         "textposition": "outside",
         "texttemplate": [
          "56.66",
          "64.29",
          "82.43",
          "93.02"
         ],
         "type": "bar",
         "x": [
          "young",
          "middle",
          "old",
          "dead outside"
         ],
         "y": [
          -0.07026143790849673,
          -0.12673392181588902,
          -0.2870201096892139,
          -0.34
         ]
        },
        {
         "name": "Divorced",
         "textposition": "outside",
         "texttemplate": [
          "56.97",
          "64.51",
          "82.35",
          "91.37"
         ],
         "type": "bar",
         "x": [
          "young",
          "middle",
          "old",
          "dead outside"
         ],
         "y": [
          -0.059665038381018845,
          -0.1507903921166085,
          -0.3451923076923077,
          -0.5102040816326531
         ]
        }
       ],
       "layout": {
        "barmode": "group",
        "height": 1000,
        "template": {
         "data": {
          "bar": [
           {
            "error_x": {
             "color": "#2a3f5f"
            },
            "error_y": {
             "color": "#2a3f5f"
            },
            "marker": {
             "line": {
              "color": "#E5ECF6",
              "width": 0.5
             },
             "pattern": {
              "fillmode": "overlay",
              "size": 10,
              "solidity": 0.2
             }
            },
            "type": "bar"
           }
          ],
          "barpolar": [
           {
            "marker": {
             "line": {
              "color": "#E5ECF6",
              "width": 0.5
             },
             "pattern": {
              "fillmode": "overlay",
              "size": 10,
              "solidity": 0.2
             }
            },
            "type": "barpolar"
           }
          ],
          "carpet": [
           {
            "aaxis": {
             "endlinecolor": "#2a3f5f",
             "gridcolor": "white",
             "linecolor": "white",
             "minorgridcolor": "white",
             "startlinecolor": "#2a3f5f"
            },
            "baxis": {
             "endlinecolor": "#2a3f5f",
             "gridcolor": "white",
             "linecolor": "white",
             "minorgridcolor": "white",
             "startlinecolor": "#2a3f5f"
            },
            "type": "carpet"
           }
          ],
          "choropleth": [
           {
            "colorbar": {
             "outlinewidth": 0,
             "ticks": ""
            },
            "type": "choropleth"
           }
          ],
          "contour": [
           {
            "colorbar": {
             "outlinewidth": 0,
             "ticks": ""
            },
            "colorscale": [
             [
              0,
              "#0d0887"
             ],
             [
              0.1111111111111111,
              "#46039f"
             ],
             [
              0.2222222222222222,
              "#7201a8"
             ],
             [
              0.3333333333333333,
              "#9c179e"
             ],
             [
              0.4444444444444444,
              "#bd3786"
             ],
             [
              0.5555555555555556,
              "#d8576b"
             ],
             [
              0.6666666666666666,
              "#ed7953"
             ],
             [
              0.7777777777777778,
              "#fb9f3a"
             ],
             [
              0.8888888888888888,
              "#fdca26"
             ],
             [
              1,
              "#f0f921"
             ]
            ],
            "type": "contour"
           }
          ],
          "contourcarpet": [
           {
            "colorbar": {
             "outlinewidth": 0,
             "ticks": ""
            },
            "type": "contourcarpet"
           }
          ],
          "heatmap": [
           {
            "colorbar": {
             "outlinewidth": 0,
             "ticks": ""
            },
            "colorscale": [
             [
              0,
              "#0d0887"
             ],
             [
              0.1111111111111111,
              "#46039f"
             ],
             [
              0.2222222222222222,
              "#7201a8"
             ],
             [
              0.3333333333333333,
              "#9c179e"
             ],
             [
              0.4444444444444444,
              "#bd3786"
             ],
             [
              0.5555555555555556,
              "#d8576b"
             ],
             [
              0.6666666666666666,
              "#ed7953"
             ],
             [
              0.7777777777777778,
              "#fb9f3a"
             ],
             [
              0.8888888888888888,
              "#fdca26"
             ],
             [
              1,
              "#f0f921"
             ]
            ],
            "type": "heatmap"
           }
          ],
          "heatmapgl": [
           {
            "colorbar": {
             "outlinewidth": 0,
             "ticks": ""
            },
            "colorscale": [
             [
              0,
              "#0d0887"
             ],
             [
              0.1111111111111111,
              "#46039f"
             ],
             [
              0.2222222222222222,
              "#7201a8"
             ],
             [
              0.3333333333333333,
              "#9c179e"
             ],
             [
              0.4444444444444444,
              "#bd3786"
             ],
             [
              0.5555555555555556,
              "#d8576b"
             ],
             [
              0.6666666666666666,
              "#ed7953"
             ],
             [
              0.7777777777777778,
              "#fb9f3a"
             ],
             [
              0.8888888888888888,
              "#fdca26"
             ],
             [
              1,
              "#f0f921"
             ]
            ],
            "type": "heatmapgl"
           }
          ],
          "histogram": [
           {
            "marker": {
             "pattern": {
              "fillmode": "overlay",
              "size": 10,
              "solidity": 0.2
             }
            },
            "type": "histogram"
           }
          ],
          "histogram2d": [
           {
            "colorbar": {
             "outlinewidth": 0,
             "ticks": ""
            },
            "colorscale": [
             [
              0,
              "#0d0887"
             ],
             [
              0.1111111111111111,
              "#46039f"
             ],
             [
              0.2222222222222222,
              "#7201a8"
             ],
             [
              0.3333333333333333,
              "#9c179e"
             ],
             [
              0.4444444444444444,
              "#bd3786"
             ],
             [
              0.5555555555555556,
              "#d8576b"
             ],
             [
              0.6666666666666666,
              "#ed7953"
             ],
             [
              0.7777777777777778,
              "#fb9f3a"
             ],
             [
              0.8888888888888888,
              "#fdca26"
             ],
             [
              1,
              "#f0f921"
             ]
            ],
            "type": "histogram2d"
           }
          ],
          "histogram2dcontour": [
           {
            "colorbar": {
             "outlinewidth": 0,
             "ticks": ""
            },
            "colorscale": [
             [
              0,
              "#0d0887"
             ],
             [
              0.1111111111111111,
              "#46039f"
             ],
             [
              0.2222222222222222,
              "#7201a8"
             ],
             [
              0.3333333333333333,
              "#9c179e"
             ],
             [
              0.4444444444444444,
              "#bd3786"
             ],
             [
              0.5555555555555556,
              "#d8576b"
             ],
             [
              0.6666666666666666,
              "#ed7953"
             ],
             [
              0.7777777777777778,
              "#fb9f3a"
             ],
             [
              0.8888888888888888,
              "#fdca26"
             ],
             [
              1,
              "#f0f921"
             ]
            ],
            "type": "histogram2dcontour"
           }
          ],
          "mesh3d": [
           {
            "colorbar": {
             "outlinewidth": 0,
             "ticks": ""
            },
            "type": "mesh3d"
           }
          ],
          "parcoords": [
           {
            "line": {
             "colorbar": {
              "outlinewidth": 0,
              "ticks": ""
             }
            },
            "type": "parcoords"
           }
          ],
          "pie": [
           {
            "automargin": true,
            "type": "pie"
           }
          ],
          "scatter": [
           {
            "marker": {
             "colorbar": {
              "outlinewidth": 0,
              "ticks": ""
             }
            },
            "type": "scatter"
           }
          ],
          "scatter3d": [
           {
            "line": {
             "colorbar": {
              "outlinewidth": 0,
              "ticks": ""
             }
            },
            "marker": {
             "colorbar": {
              "outlinewidth": 0,
              "ticks": ""
             }
            },
            "type": "scatter3d"
           }
          ],
          "scattercarpet": [
           {
            "marker": {
             "colorbar": {
              "outlinewidth": 0,
              "ticks": ""
             }
            },
            "type": "scattercarpet"
           }
          ],
          "scattergeo": [
           {
            "marker": {
             "colorbar": {
              "outlinewidth": 0,
              "ticks": ""
             }
            },
            "type": "scattergeo"
           }
          ],
          "scattergl": [
           {
            "marker": {
             "colorbar": {
              "outlinewidth": 0,
              "ticks": ""
             }
            },
            "type": "scattergl"
           }
          ],
          "scattermapbox": [
           {
            "marker": {
             "colorbar": {
              "outlinewidth": 0,
              "ticks": ""
             }
            },
            "type": "scattermapbox"
           }
          ],
          "scatterpolar": [
           {
            "marker": {
             "colorbar": {
              "outlinewidth": 0,
              "ticks": ""
             }
            },
            "type": "scatterpolar"
           }
          ],
          "scatterpolargl": [
           {
            "marker": {
             "colorbar": {
              "outlinewidth": 0,
              "ticks": ""
             }
            },
            "type": "scatterpolargl"
           }
          ],
          "scatterternary": [
           {
            "marker": {
             "colorbar": {
              "outlinewidth": 0,
              "ticks": ""
             }
            },
            "type": "scatterternary"
           }
          ],
          "surface": [
           {
            "colorbar": {
             "outlinewidth": 0,
             "ticks": ""
            },
            "colorscale": [
             [
              0,
              "#0d0887"
             ],
             [
              0.1111111111111111,
              "#46039f"
             ],
             [
              0.2222222222222222,
              "#7201a8"
             ],
             [
              0.3333333333333333,
              "#9c179e"
             ],
             [
              0.4444444444444444,
              "#bd3786"
             ],
             [
              0.5555555555555556,
              "#d8576b"
             ],
             [
              0.6666666666666666,
              "#ed7953"
             ],
             [
              0.7777777777777778,
              "#fb9f3a"
             ],
             [
              0.8888888888888888,
              "#fdca26"
             ],
             [
              1,
              "#f0f921"
             ]
            ],
            "type": "surface"
           }
          ],
          "table": [
           {
            "cells": {
             "fill": {
              "color": "#EBF0F8"
             },
             "line": {
              "color": "white"
             }
            },
            "header": {
             "fill": {
              "color": "#C8D4E3"
             },
             "line": {
              "color": "white"
             }
            },
            "type": "table"
           }
          ]
         },
         "layout": {
          "annotationdefaults": {
           "arrowcolor": "#2a3f5f",
           "arrowhead": 0,
           "arrowwidth": 1
          },
          "autotypenumbers": "strict",
          "coloraxis": {
           "colorbar": {
            "outlinewidth": 0,
            "ticks": ""
           }
          },
          "colorscale": {
           "diverging": [
            [
             0,
             "#8e0152"
            ],
            [
             0.1,
             "#c51b7d"
            ],
            [
             0.2,
             "#de77ae"
            ],
            [
             0.3,
             "#f1b6da"
            ],
            [
             0.4,
             "#fde0ef"
            ],
            [
             0.5,
             "#f7f7f7"
            ],
            [
             0.6,
             "#e6f5d0"
            ],
            [
             0.7,
             "#b8e186"
            ],
            [
             0.8,
             "#7fbc41"
            ],
            [
             0.9,
             "#4d9221"
            ],
            [
             1,
             "#276419"
            ]
           ],
           "sequential": [
            [
             0,
             "#0d0887"
            ],
            [
             0.1111111111111111,
             "#46039f"
            ],
            [
             0.2222222222222222,
             "#7201a8"
            ],
            [
             0.3333333333333333,
             "#9c179e"
            ],
            [
             0.4444444444444444,
             "#bd3786"
            ],
            [
             0.5555555555555556,
             "#d8576b"
            ],
            [
             0.6666666666666666,
             "#ed7953"
            ],
            [
             0.7777777777777778,
             "#fb9f3a"
            ],
            [
             0.8888888888888888,
             "#fdca26"
            ],
            [
             1,
             "#f0f921"
            ]
           ],
           "sequentialminus": [
            [
             0,
             "#0d0887"
            ],
            [
             0.1111111111111111,
             "#46039f"
            ],
            [
             0.2222222222222222,
             "#7201a8"
            ],
            [
             0.3333333333333333,
             "#9c179e"
            ],
            [
             0.4444444444444444,
             "#bd3786"
            ],
            [
             0.5555555555555556,
             "#d8576b"
            ],
            [
             0.6666666666666666,
             "#ed7953"
            ],
            [
             0.7777777777777778,
             "#fb9f3a"
            ],
            [
             0.8888888888888888,
             "#fdca26"
            ],
            [
             1,
             "#f0f921"
            ]
           ]
          },
          "colorway": [
           "#636efa",
           "#EF553B",
           "#00cc96",
           "#ab63fa",
           "#FFA15A",
           "#19d3f3",
           "#FF6692",
           "#B6E880",
           "#FF97FF",
           "#FECB52"
          ],
          "font": {
           "color": "#2a3f5f"
          },
          "geo": {
           "bgcolor": "white",
           "lakecolor": "white",
           "landcolor": "#E5ECF6",
           "showlakes": true,
           "showland": true,
           "subunitcolor": "white"
          },
          "hoverlabel": {
           "align": "left"
          },
          "hovermode": "closest",
          "mapbox": {
           "style": "light"
          },
          "paper_bgcolor": "white",
          "plot_bgcolor": "#E5ECF6",
          "polar": {
           "angularaxis": {
            "gridcolor": "white",
            "linecolor": "white",
            "ticks": ""
           },
           "bgcolor": "#E5ECF6",
           "radialaxis": {
            "gridcolor": "white",
            "linecolor": "white",
            "ticks": ""
           }
          },
          "scene": {
           "xaxis": {
            "backgroundcolor": "#E5ECF6",
            "gridcolor": "white",
            "gridwidth": 2,
            "linecolor": "white",
            "showbackground": true,
            "ticks": "",
            "zerolinecolor": "white"
           },
           "yaxis": {
            "backgroundcolor": "#E5ECF6",
            "gridcolor": "white",
            "gridwidth": 2,
            "linecolor": "white",
            "showbackground": true,
            "ticks": "",
            "zerolinecolor": "white"
           },
           "zaxis": {
            "backgroundcolor": "#E5ECF6",
            "gridcolor": "white",
            "gridwidth": 2,
            "linecolor": "white",
            "showbackground": true,
            "ticks": "",
            "zerolinecolor": "white"
           }
          },
          "shapedefaults": {
           "line": {
            "color": "#2a3f5f"
           }
          },
          "ternary": {
           "aaxis": {
            "gridcolor": "white",
            "linecolor": "white",
            "ticks": ""
           },
           "baxis": {
            "gridcolor": "white",
            "linecolor": "white",
            "ticks": ""
           },
           "bgcolor": "#E5ECF6",
           "caxis": {
            "gridcolor": "white",
            "linecolor": "white",
            "ticks": ""
           }
          },
          "title": {
           "x": 0.05
          },
          "xaxis": {
           "automargin": true,
           "gridcolor": "white",
           "linecolor": "white",
           "ticks": "",
           "title": {
            "standoff": 15
           },
           "zerolinecolor": "white",
           "zerolinewidth": 2
          },
          "yaxis": {
           "automargin": true,
           "gridcolor": "white",
           "linecolor": "white",
           "ticks": "",
           "title": {
            "standoff": 15
           },
           "zerolinecolor": "white",
           "zerolinewidth": 2
          }
         }
        },
        "title": {
         "text": "Среднее изменение здоровья по полу и группе возраста в группе брака"
        },
        "width": 1200,
        "xaxis": {
         "title": {
          "text": "Группа возраста"
         }
        },
        "yaxis": {
         "range": [
          -1,
          0.2
         ],
         "tickmode": "array",
         "ticktext": [
          -1,
          -0.9,
          -0.8,
          -0.7,
          -0.6,
          -0.5,
          -0.4,
          -0.3,
          -0.2,
          -0.1,
          0,
          0.1,
          0.2
         ],
         "tickvals": [
          -1,
          -0.9,
          -0.8,
          -0.7,
          -0.6,
          -0.5,
          -0.4,
          -0.3,
          -0.2,
          -0.1,
          0,
          0.1,
          0.2
         ],
         "title": {
          "text": "Среднее изменение здоровья"
         }
        }
       }
      }
     },
     "metadata": {},
     "output_type": "display_data"
    }
   ],
   "source": [
    "y_ticks = [-1, -0.9, -0.8, -0.7, -0.6, -0.5, -0.4, -0.3, -0.2, -0.1, 0, 0.1, 0.2]\n",
    "\n",
    "mean_in_group = rmstat_df['rhltc'].mean()\n",
    "\n",
    "fig = go.Figure()\n",
    "\n",
    "tmp = rmstat_df[rmstat_df['marriage_group'] == 'married']\n",
    "fig.add_trace(go.Bar(name='Married',\n",
    "    x=age_groups,\n",
    "    y=tmp.groupby('age_group')['rhltc'].mean().reindex(age_groups),\n",
    "    # marker_color='rgb(85, 177, 242)'\n",
    "    texttemplate=[f'{x:.2f}' for x in tmp.groupby('age_group')['ragey_b'].mean().reindex(age_groups).values],\n",
    "    # texttemplate=['text1', 'text2', 'text3', 'text4', 'text5'],\n",
    "    textposition='outside',\n",
    "))\n",
    "\n",
    "tmp = rmstat_df[rmstat_df['marriage_group'] == 'separated']\n",
    "fig.add_trace(go.Bar(name='Separated',\n",
    "    x=age_groups,\n",
    "    y=tmp.groupby('age_group')['rhltc'].mean().reindex(age_groups), \n",
    "    # marker_color='rgb(242, 111, 85)'\n",
    "    texttemplate=[f'{x:.2f}' for x in tmp.groupby('age_group')['ragey_b'].mean().reindex(age_groups).values],\n",
    "    textposition='outside',\n",
    "))\n",
    "\n",
    "tmp = rmstat_df[rmstat_df['marriage_group'] == 'dead spouse']\n",
    "fig.add_trace(go.Bar(name='Dead Spouse',\n",
    "    x=age_groups,\n",
    "    y=tmp.groupby('age_group')['rhltc'].mean().reindex(age_groups), \n",
    "    # marker_color='rgb(242, 111, 85)'\n",
    "    texttemplate=[f'{x:.2f}' for x in tmp.groupby('age_group')['ragey_b'].mean().reindex(age_groups).values],\n",
    "    textposition='outside',\n",
    "))\n",
    "\n",
    "tmp = rmstat_df[rmstat_df['marriage_group'] == 'never married']\n",
    "fig.add_trace(go.Bar(name='Never Married',\n",
    "    x=age_groups,\n",
    "    y=tmp.groupby('age_group')['rhltc'].mean().reindex(age_groups), \n",
    "    # marker_color='rgb(242, 111, 85)'\n",
    "    texttemplate=[f'{x:.2f}' for x in tmp.groupby('age_group')['ragey_b'].mean().reindex(age_groups).values],\n",
    "    textposition='outside',\n",
    "))\n",
    "\n",
    "tmp = rmstat_df[rmstat_df['marriage_group'] == 'divorced']\n",
    "fig.add_trace(go.Bar(name='Divorced',\n",
    "    x=age_groups,\n",
    "    y=tmp.groupby('age_group')['rhltc'].mean().reindex(age_groups), \n",
    "    # marker_color='rgb(242, 111, 85)'\n",
    "    texttemplate=[f'{x:.2f}' for x in tmp.groupby('age_group')['ragey_b'].mean().reindex(age_groups).values],\n",
    "    textposition='outside',\n",
    "))\n",
    "\n",
    "fig.update_layout(\n",
    "    barmode='group',\n",
    "    width=1200, height=1000,\n",
    "    title=f'Среднее изменение здоровья по полу и группе возраста в группе брака',\n",
    "    xaxis_title='Группа возраста',\n",
    "    yaxis_title='Среднее изменение здоровья',\n",
    "    yaxis = dict(\n",
    "        tickmode = 'array',\n",
    "        tickvals = y_ticks,\n",
    "        ticktext = y_ticks\n",
    "    )\n",
    ")\n",
    "fig.update_yaxes(range=[-1, 0.2])\n",
    "\n",
    "# fig.add_hline(\n",
    "#     y=mean_in_group,\n",
    "#     line_dash='dash',\n",
    "#     line_color='black',\n",
    "#     line_width=1,\n",
    "#     annotation_text=f'Среднее по группе: {mean_in_group:.2f}',\n",
    "#     annotation_position='bottom left'\n",
    "# )\n",
    "\n",
    "fig.show()"
   ]
  },
  {
   "cell_type": "code",
   "execution_count": 152,
   "metadata": {},
   "outputs": [],
   "source": [
    "def hypothesis_check(t, p): \n",
    "    if (abs(t) > 2.59) and (p < 0.01): \n",
    "        print('Отвергаем Н0. Разница между средними статистически значима. На уровне значимости 99%') \n",
    "    elif (abs(t) > 1.9667) and (p < 0.05): \n",
    "        print('Отвергаем Н0. Разница между средними статистически значима. На уровне значимости 95%') \n",
    "    else: \n",
    "        print('Не удалось отвергнуть H0')"
   ]
  },
  {
   "cell_type": "code",
   "execution_count": 153,
   "metadata": {},
   "outputs": [],
   "source": [
    "df_married = rmstat_df[rmstat_df['marriage_group'] == 'married']\n",
    "df_separated = rmstat_df[rmstat_df['marriage_group'] == 'separated']\n",
    "df_dead = rmstat_df[rmstat_df['marriage_group'] == 'dead spouse']\n",
    "df_never = rmstat_df[rmstat_df['marriage_group'] == 'never married']\n",
    "df_divorced = rmstat_df[rmstat_df['marriage_group'] == 'divorced']"
   ]
  },
  {
   "cell_type": "code",
   "execution_count": 158,
   "metadata": {},
   "outputs": [
    {
     "name": "stdout",
     "output_type": "stream",
     "text": [
      "Отвергаем Н0. Разница между средними статистически значима. На уровне значимости 99%\n",
      "ddof = 9997\n",
      "t = 2.740833856309917\n",
      "p-value = 0.0061581371253321025\n",
      "Среднее среди совместно проживающих или женатых = -0.1073157401623985\n",
      "Среднее среди все сложно = -0.14367651276168628\n"
     ]
    }
   ],
   "source": [
    "t, p = stats.ttest_ind(df_married['rhltc'], df_separated['rhltc'], equal_var=False)\n",
    "var_1 = df_married['rhltc'].var() \n",
    "var_2 = df_separated['rhltc'].var() \n",
    "n_1 = len(df_married['rhltc']) \n",
    "n_2 = len(df_separated['rhltc']) \n",
    "s_m1_m2 = np.sqrt(var_1/n_1 + var_2/n_2) \n",
    "df_welch = (var_1 + var_2)**2 / (var_1**2 / (n_1 - 1) + var_2**2 / (n_2 - 1)) \n",
    "if df_welch > 350: \n",
    "    hypothesis_check(t, p) \n",
    "else: \n",
    "    print('ddof =', df_welch) \n",
    "print('ddof =', int(df_welch)) \n",
    "print('t =', t) \n",
    "print('p-value =', p) \n",
    "print('Среднее среди совместно проживающих или женатых =', df_married['rhltc'].mean()) \n",
    "print('Среднее среди все сложно =', df_separated['rhltc'].mean())"
   ]
  },
  {
   "cell_type": "code",
   "execution_count": 155,
   "metadata": {},
   "outputs": [
    {
     "name": "stdout",
     "output_type": "stream",
     "text": [
      "Отвергаем Н0. Разница между средними статистически значима. На уровне значимости 99%\n",
      "ddof = 85035\n",
      "t = 33.60493654157091\n",
      "p-value = 1.269130988922816e-244\n",
      "Среднее среди совместно проживающих или женатых = -0.1073157401623985\n",
      "Среднее среди потерявших супруга = -0.26026261688440877\n"
     ]
    }
   ],
   "source": [
    "t, p = stats.ttest_ind(df_married['rhltc'], df_dead['rhltc'], equal_var=False)\n",
    "var_1 = df_married['rhltc'].var() \n",
    "var_2 = df_dead['rhltc'].var() \n",
    "n_1 = len(df_married['rhltc']) \n",
    "n_2 = len(df_dead['rhltc']) \n",
    "s_m1_m2 = np.sqrt(var_1/n_1 + var_2/n_2) \n",
    "df_welch = (var_1 + var_2)**2 / (var_1**2 / (n_1 - 1) + var_2**2 / (n_2 - 1)) \n",
    "if df_welch > 350: \n",
    "    hypothesis_check(t, p) \n",
    "else: \n",
    "    print('ddof =', df_welch) \n",
    "print('ddof =', int(df_welch)) \n",
    "print('t =', t) \n",
    "print('p-value =', p) \n",
    "print('Среднее среди совместно проживающих или женатых =', df_married['rhltc'].mean()) \n",
    "print('Среднее среди потерявших супруга =', df_dead['rhltc'].mean())"
   ]
  },
  {
   "cell_type": "code",
   "execution_count": 159,
   "metadata": {},
   "outputs": [
    {
     "name": "stdout",
     "output_type": "stream",
     "text": [
      "Отвергаем Н0. Разница между средними статистически значима. На уровне значимости 95%\n",
      "ddof = 17643\n",
      "t = 2.5701908229720227\n",
      "p-value = 0.01019058537571036\n",
      "Среднее среди совместно проживающих или женатых = -0.1073157401623985\n",
      "Среднее среди никогда не женатых = -0.13258561986781495\n"
     ]
    }
   ],
   "source": [
    "t, p = stats.ttest_ind(df_married['rhltc'], df_never['rhltc'], equal_var=False)\n",
    "var_1 = df_married['rhltc'].var() \n",
    "var_2 = df_never['rhltc'].var() \n",
    "n_1 = len(df_married['rhltc']) \n",
    "n_2 = len(df_never['rhltc']) \n",
    "s_m1_m2 = np.sqrt(var_1/n_1 + var_2/n_2) \n",
    "df_welch = (var_1 + var_2)**2 / (var_1**2 / (n_1 - 1) + var_2**2 / (n_2 - 1)) \n",
    "if df_welch > 350: \n",
    "    hypothesis_check(t, p) \n",
    "else: \n",
    "    print('ddof =', df_welch) \n",
    "print('ddof =', int(df_welch)) \n",
    "print('t =', t) \n",
    "print('p-value =', p) \n",
    "print('Среднее среди совместно проживающих или женатых =', df_married['rhltc'].mean()) \n",
    "print('Среднее среди никогда не женатых =', df_never['rhltc'].mean())"
   ]
  },
  {
   "cell_type": "code",
   "execution_count": 157,
   "metadata": {},
   "outputs": [
    {
     "name": "stdout",
     "output_type": "stream",
     "text": [
      "Отвергаем Н0. Разница между средними статистически значима. На уровне значимости 99%\n",
      "ddof = 41241\n",
      "t = 6.2136080893496475\n",
      "p-value = 5.300175988549461e-10\n",
      "Среднее среди совместно проживающих или женатых = -0.1073157401623985\n",
      "Среднее среди разведенных = -0.14776958458056508\n"
     ]
    }
   ],
   "source": [
    "t, p = stats.ttest_ind(df_married['rhltc'], df_divorced['rhltc'], equal_var=False)\n",
    "var_1 = df_married['rhltc'].var() \n",
    "var_2 = df_divorced['rhltc'].var() \n",
    "n_1 = len(df_married['rhltc']) \n",
    "n_2 = len(df_divorced['rhltc']) \n",
    "s_m1_m2 = np.sqrt(var_1/n_1 + var_2/n_2) \n",
    "df_welch = (var_1 + var_2)**2 / (var_1**2 / (n_1 - 1) + var_2**2 / (n_2 - 1)) \n",
    "if df_welch > 350: \n",
    "    hypothesis_check(t, p) \n",
    "else: \n",
    "    print('ddof =', df_welch) \n",
    "print('ddof =', int(df_welch)) \n",
    "print('t =', t) \n",
    "print('p-value =', p) \n",
    "print('Среднее среди совместно проживающих или женатых =', df_married['rhltc'].mean()) \n",
    "print('Среднее среди разведенных =', df_divorced['rhltc'].mean())"
   ]
  }
 ],
 "metadata": {
  "kernelspec": {
   "display_name": "base",
   "language": "python",
   "name": "python3"
  },
  "language_info": {
   "codemirror_mode": {
    "name": "ipython",
    "version": 3
   },
   "file_extension": ".py",
   "mimetype": "text/x-python",
   "name": "python",
   "nbconvert_exporter": "python",
   "pygments_lexer": "ipython3",
   "version": "3.9.12 (main, Apr  4 2022, 05:22:27) [MSC v.1916 64 bit (AMD64)]"
  },
  "orig_nbformat": 4,
  "vscode": {
   "interpreter": {
    "hash": "1583098d49b8b63b24ba78fec75676b625853923384d7c0eb5f87db36da8a08e"
   }
  }
 },
 "nbformat": 4,
 "nbformat_minor": 2
}
